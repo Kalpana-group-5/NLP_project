{
 "cells": [
  {
   "cell_type": "code",
   "execution_count": 3,
   "id": "c59d98c0",
   "metadata": {
    "scrolled": true
   },
   "outputs": [],
   "source": [
    "import acquire\n",
    "import pandas as pd\n",
    "import numpy as np"
   ]
  },
  {
   "cell_type": "code",
   "execution_count": 4,
   "id": "5c0525ca",
   "metadata": {},
   "outputs": [],
   "source": [
    "REPOS = acquire.scrape_github_data()"
   ]
  },
  {
   "cell_type": "code",
   "execution_count": 5,
   "id": "2d6ce1ff",
   "metadata": {},
   "outputs": [],
   "source": [
    "repos = pd.DataFrame(REPOS)"
   ]
  },
  {
   "cell_type": "code",
   "execution_count": 6,
   "id": "9f624da7",
   "metadata": {},
   "outputs": [
    {
     "data": {
      "text/html": [
       "<div>\n",
       "<style scoped>\n",
       "    .dataframe tbody tr th:only-of-type {\n",
       "        vertical-align: middle;\n",
       "    }\n",
       "\n",
       "    .dataframe tbody tr th {\n",
       "        vertical-align: top;\n",
       "    }\n",
       "\n",
       "    .dataframe thead th {\n",
       "        text-align: right;\n",
       "    }\n",
       "</style>\n",
       "<table border=\"1\" class=\"dataframe\">\n",
       "  <thead>\n",
       "    <tr style=\"text-align: right;\">\n",
       "      <th></th>\n",
       "      <th>repo</th>\n",
       "      <th>language</th>\n",
       "      <th>readme_contents</th>\n",
       "    </tr>\n",
       "  </thead>\n",
       "  <tbody>\n",
       "    <tr>\n",
       "      <th>0</th>\n",
       "      <td>zmb3/spotify</td>\n",
       "      <td>Go</td>\n",
       "      <td>\\nSpotify\\n=======\\n\\n[![GoDoc](https://godoc....</td>\n",
       "    </tr>\n",
       "    <tr>\n",
       "      <th>1</th>\n",
       "      <td>spotDL/spotify-downloader</td>\n",
       "      <td>Python</td>\n",
       "      <td>&lt;!--- mdformat-toc start --slug=github ---&gt;\\n\\...</td>\n",
       "    </tr>\n",
       "    <tr>\n",
       "      <th>2</th>\n",
       "      <td>Spotifyd/spotifyd</td>\n",
       "      <td>Rust</td>\n",
       "      <td># Spotifyd &lt;!-- omit in toc --&gt;\\n&lt;!-- ALL-CONT...</td>\n",
       "    </tr>\n",
       "    <tr>\n",
       "      <th>3</th>\n",
       "      <td>Rigellute/spotify-tui</td>\n",
       "      <td>Rust</td>\n",
       "      <td># Spotify TUI\\n\\n![Continuous Integration](htt...</td>\n",
       "    </tr>\n",
       "    <tr>\n",
       "      <th>4</th>\n",
       "      <td>JohnnyCrazy/SpotifyAPI-NET</td>\n",
       "      <td>C#</td>\n",
       "      <td>\\n&lt;h1 align=\"center\"&gt;\\n  &lt;p align=\"center\"&gt;Spo...</td>\n",
       "    </tr>\n",
       "    <tr>\n",
       "      <th>...</th>\n",
       "      <td>...</td>\n",
       "      <td>...</td>\n",
       "      <td>...</td>\n",
       "    </tr>\n",
       "    <tr>\n",
       "      <th>915</th>\n",
       "      <td>possan/atari-spotify-app</td>\n",
       "      <td>Python</td>\n",
       "      <td># Running Spotify on an 8-bit Atari\\n\\n&gt; ⚠️ **...</td>\n",
       "    </tr>\n",
       "    <tr>\n",
       "      <th>916</th>\n",
       "      <td>valeriangalliat/spotify-to-youtube</td>\n",
       "      <td>JavaScript</td>\n",
       "      <td># Spotify to YouTube [![npm version](http://im...</td>\n",
       "    </tr>\n",
       "    <tr>\n",
       "      <th>917</th>\n",
       "      <td>owntone/owntone-server</td>\n",
       "      <td>C</td>\n",
       "      <td># OwnTone (previously forked-daapd)\\n\\nOwnTone...</td>\n",
       "    </tr>\n",
       "    <tr>\n",
       "      <th>918</th>\n",
       "      <td>JornPrengerFormeel/Disc-It</td>\n",
       "      <td>JavaScript</td>\n",
       "      <td># Spot-It\\nA music discovery tool for spotify....</td>\n",
       "    </tr>\n",
       "    <tr>\n",
       "      <th>919</th>\n",
       "      <td>makeratplay/esp32SpotifyEchoDot</td>\n",
       "      <td>C++</td>\n",
       "      <td># Magical Alexa-Spotify-CD Box\\n\\n\\nFor Christ...</td>\n",
       "    </tr>\n",
       "  </tbody>\n",
       "</table>\n",
       "<p>920 rows × 3 columns</p>\n",
       "</div>"
      ],
      "text/plain": [
       "                                   repo    language  \\\n",
       "0                          zmb3/spotify          Go   \n",
       "1             spotDL/spotify-downloader      Python   \n",
       "2                     Spotifyd/spotifyd        Rust   \n",
       "3                 Rigellute/spotify-tui        Rust   \n",
       "4            JohnnyCrazy/SpotifyAPI-NET          C#   \n",
       "..                                  ...         ...   \n",
       "915            possan/atari-spotify-app      Python   \n",
       "916  valeriangalliat/spotify-to-youtube  JavaScript   \n",
       "917              owntone/owntone-server           C   \n",
       "918          JornPrengerFormeel/Disc-It  JavaScript   \n",
       "919     makeratplay/esp32SpotifyEchoDot         C++   \n",
       "\n",
       "                                       readme_contents  \n",
       "0    \\nSpotify\\n=======\\n\\n[![GoDoc](https://godoc....  \n",
       "1    <!--- mdformat-toc start --slug=github --->\\n\\...  \n",
       "2    # Spotifyd <!-- omit in toc -->\\n<!-- ALL-CONT...  \n",
       "3    # Spotify TUI\\n\\n![Continuous Integration](htt...  \n",
       "4    \\n<h1 align=\"center\">\\n  <p align=\"center\">Spo...  \n",
       "..                                                 ...  \n",
       "915  # Running Spotify on an 8-bit Atari\\n\\n> ⚠️ **...  \n",
       "916  # Spotify to YouTube [![npm version](http://im...  \n",
       "917  # OwnTone (previously forked-daapd)\\n\\nOwnTone...  \n",
       "918  # Spot-It\\nA music discovery tool for spotify....  \n",
       "919  # Magical Alexa-Spotify-CD Box\\n\\n\\nFor Christ...  \n",
       "\n",
       "[920 rows x 3 columns]"
      ]
     },
     "execution_count": 6,
     "metadata": {},
     "output_type": "execute_result"
    }
   ],
   "source": [
    "repos"
   ]
  },
  {
   "cell_type": "code",
   "execution_count": null,
   "id": "61362573",
   "metadata": {},
   "outputs": [],
   "source": []
  }
 ],
 "metadata": {
  "kernelspec": {
   "display_name": "Python 3 (ipykernel)",
   "language": "python",
   "name": "python3"
  },
  "language_info": {
   "codemirror_mode": {
    "name": "ipython",
    "version": 3
   },
   "file_extension": ".py",
   "mimetype": "text/x-python",
   "name": "python",
   "nbconvert_exporter": "python",
   "pygments_lexer": "ipython3",
   "version": "3.9.12"
  }
 },
 "nbformat": 4,
 "nbformat_minor": 5
}
