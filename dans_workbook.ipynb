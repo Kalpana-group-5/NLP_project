{
 "cells": [
  {
   "cell_type": "code",
   "execution_count": null,
   "id": "774c7fdd",
   "metadata": {},
   "outputs": [],
   "source": [
    "import unicodedata\n",
    "import re\n",
    "import json\n",
    "\n",
    "import nltk\n",
    "from nltk.tokenize.toktok import ToktokTokenizer\n",
    "from nltk.corpus import stopwords\n",
    "\n",
    "\n",
    "# required imports\n",
    "from requests import get\n",
    "import pandas as pd\n",
    "from bs4 import BeautifulSoup\n",
    "import time\n",
    "import random\n",
    "\n",
    "import acquire\n",
    "import dans_prepare as prep"
   ]
  },
  {
   "cell_type": "code",
   "execution_count": null,
   "id": "fffbdcfc",
   "metadata": {},
   "outputs": [],
   "source": [
    "data = acquire.scrape_github_data()\n",
    "data"
   ]
  },
  {
   "cell_type": "code",
   "execution_count": null,
   "id": "1e841884",
   "metadata": {},
   "outputs": [],
   "source": [
    "df = pd.read_csv('dirty_spotify')"
   ]
  },
  {
   "cell_type": "code",
   "execution_count": null,
   "id": "f521aadb",
   "metadata": {},
   "outputs": [],
   "source": [
    "df = pd.DataFrame(data)"
   ]
  },
  {
   "cell_type": "code",
   "execution_count": null,
   "id": "93a6c8eb",
   "metadata": {},
   "outputs": [],
   "source": [
    "df"
   ]
  },
  {
   "cell_type": "code",
   "execution_count": null,
   "id": "02ad15c3",
   "metadata": {},
   "outputs": [],
   "source": [
    "df = prep.nlp_prep2(df)"
   ]
  },
  {
   "cell_type": "code",
   "execution_count": null,
   "id": "fafed5c8",
   "metadata": {},
   "outputs": [],
   "source": [
    "df.to_csv('dirty_spotify')"
   ]
  },
  {
   "cell_type": "code",
   "execution_count": null,
   "id": "041e75e9",
   "metadata": {},
   "outputs": [],
   "source": [
    "df.head()"
   ]
  },
  {
   "cell_type": "code",
   "execution_count": null,
   "id": "3b9673a0",
   "metadata": {},
   "outputs": [],
   "source": [
    "df = prep.nlp_prep(df)"
   ]
  },
  {
   "cell_type": "code",
   "execution_count": null,
   "id": "acb21eec",
   "metadata": {},
   "outputs": [],
   "source": [
    "df.info()"
   ]
  },
  {
   "cell_type": "code",
   "execution_count": null,
   "id": "e6d0ca28",
   "metadata": {},
   "outputs": [],
   "source": [
    "df['readme_contents'] = df['readme_contents'].astype('|S')"
   ]
  },
  {
   "cell_type": "code",
   "execution_count": null,
   "id": "44825786",
   "metadata": {},
   "outputs": [],
   "source": []
  }
 ],
 "metadata": {
  "kernelspec": {
   "display_name": "Python 3 (ipykernel)",
   "language": "python",
   "name": "python3"
  },
  "language_info": {
   "codemirror_mode": {
    "name": "ipython",
    "version": 3
   },
   "file_extension": ".py",
   "mimetype": "text/x-python",
   "name": "python",
   "nbconvert_exporter": "python",
   "pygments_lexer": "ipython3",
   "version": "3.9.12"
  }
 },
 "nbformat": 4,
 "nbformat_minor": 5
}
