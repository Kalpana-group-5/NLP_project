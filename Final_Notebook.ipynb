{
 "cells": [
  {
   "cell_type": "markdown",
   "id": "0217aaee",
   "metadata": {},
   "source": [
    "# Spotify Natural Language Processing Project"
   ]
  },
  {
   "cell_type": "markdown",
   "id": "9296e5f1",
   "metadata": {},
   "source": [
    "\n",
    "\n",
    "\n",
    "### By: Daniel Ford, Glady Barrios, Kevin Smith"
   ]
  },
  {
   "cell_type": "markdown",
   "id": "858d09f2",
   "metadata": {},
   "source": [
    "----"
   ]
  },
  {
   "cell_type": "markdown",
   "id": "1b5a4dd0",
   "metadata": {},
   "source": [
    "# Project Goal"
   ]
  },
  {
   "cell_type": "markdown",
   "id": "e80e11d5",
   "metadata": {},
   "source": [
    "- The goal of this project is to use natural language processing and classification models to identify terms for predicting a readme's primary language on Github."
   ]
  },
  {
   "cell_type": "markdown",
   "id": "02360cd4",
   "metadata": {},
   "source": [
    "---"
   ]
  },
  {
   "cell_type": "markdown",
   "id": "1c0332e8",
   "metadata": {},
   "source": [
    "# Inital Questions "
   ]
  },
  {
   "cell_type": "markdown",
   "id": "a4f168f4",
   "metadata": {},
   "source": [
    " - What are the top 5 programming languages when searching for 'Spotify' repos on github?\n",
    " - What are the most common words we would see when searching for spotify README's\n",
    " - From these top 5 programing languages what are the most common words from these languages \n",
    " - What are some common bigrams in the languages when using these bigrams\n"
   ]
  },
  {
   "cell_type": "markdown",
   "id": "786b500b",
   "metadata": {},
   "source": [
    "### Mini-data dictionary"
   ]
  },
  {
   "cell_type": "markdown",
   "id": "28ed1477",
   "metadata": {},
   "source": [
    "---\n",
    "| Attribute | Definition | Data Type |\n",
    "| ----- | ----- | ----- |\n",
    "|Repo |The username of the REPO|object |\n",
    "|readme_contents |What is inside the readme | object|\n",
    "|language|the programming language |object |\n",
    "|lemmatized|prepared data |object |\n"
   ]
  },
  {
   "cell_type": "markdown",
   "id": "5ee66f4c",
   "metadata": {},
   "source": [
    "### Important Libraries"
   ]
  },
  {
   "cell_type": "code",
   "execution_count": 12,
   "id": "a18380d9",
   "metadata": {},
   "outputs": [],
   "source": [
    "import pandas as pd\n",
    "import numpy as np\n",
    "import unicodedata\n",
    "import re, os\n",
    "import json\n",
    "%matplotlib inline\n",
    "import matplotlib.pyplot as plt\n",
    "import seaborn as sns\n",
    "from wordcloud import WordCloud\n",
    "\n",
    "import nltk\n",
    "from nltk.tokenize.toktok import ToktokTokenizer\n",
    "from nltk.corpus import stopwords\n",
    "from sklearn.feature_extraction.text import CountVectorizer\n",
    "from sklearn.model_selection import train_test_split\n",
    "from scipy.stats import zscore\n",
    "\n",
    "\n",
    "import time\n",
    "import random\n",
    "from requests import get\n",
    "from bs4 import BeautifulSoup\n",
    "#the aquire takes a while\n",
    "import acquire\n",
    "\n",
    "import prepare\n",
    "\n",
    "import warnings\n",
    "warnings.filterwarnings(\"ignore\")"
   ]
  },
  {
   "cell_type": "markdown",
   "id": "ae593fe6",
   "metadata": {},
   "source": [
    "# Acquire\n",
    "---\n",
    "\n",
    "To acquire the data first we needed to scrape the links for the individual repos from github by iterating through the pages of search results and grabbing the 10 links from each page. \n",
    "\n",
    "Once this step was completed we were able to populate a dataframe with the name of the repo, the main coding language, and the contents of the README file associated with the repo by utilizing different functions that gathered those pieces of data from the github API. \n",
    "\n",
    "Both process were wrapped in a TQDM progress bar because the acquisition took about 45 minutes altogether, and having a progress bar allowed us to know if the function was still working, or if it had timed out."
   ]
  },
  {
   "cell_type": "code",
   "execution_count": null,
   "id": "d2ffe1e7",
   "metadata": {},
   "outputs": [],
   "source": []
  },
  {
   "cell_type": "code",
   "execution_count": 2,
   "id": "b4beb3e3",
   "metadata": {},
   "outputs": [],
   "source": [
    "df = acquire.github_df()"
   ]
  },
  {
   "cell_type": "code",
   "execution_count": 3,
   "id": "78f5ba0f",
   "metadata": {},
   "outputs": [
    {
     "data": {
      "text/html": [
       "<div>\n",
       "<style scoped>\n",
       "    .dataframe tbody tr th:only-of-type {\n",
       "        vertical-align: middle;\n",
       "    }\n",
       "\n",
       "    .dataframe tbody tr th {\n",
       "        vertical-align: top;\n",
       "    }\n",
       "\n",
       "    .dataframe thead th {\n",
       "        text-align: right;\n",
       "    }\n",
       "</style>\n",
       "<table border=\"1\" class=\"dataframe\">\n",
       "  <thead>\n",
       "    <tr style=\"text-align: right;\">\n",
       "      <th></th>\n",
       "      <th>repo</th>\n",
       "      <th>language</th>\n",
       "      <th>readme_contents</th>\n",
       "    </tr>\n",
       "  </thead>\n",
       "  <tbody>\n",
       "    <tr>\n",
       "      <th>0</th>\n",
       "      <td>zmb3/spotify</td>\n",
       "      <td>Go</td>\n",
       "      <td>\\nSpotify\\n=======\\n\\n[![GoDoc](https://godoc....</td>\n",
       "    </tr>\n",
       "    <tr>\n",
       "      <th>1</th>\n",
       "      <td>spotDL/spotify-downloader</td>\n",
       "      <td>Python</td>\n",
       "      <td>&lt;!--- mdformat-toc start --slug=github ---&gt;\\n\\...</td>\n",
       "    </tr>\n",
       "    <tr>\n",
       "      <th>2</th>\n",
       "      <td>Spotifyd/spotifyd</td>\n",
       "      <td>Rust</td>\n",
       "      <td># Spotifyd &lt;!-- omit in toc --&gt;\\n&lt;!-- ALL-CONT...</td>\n",
       "    </tr>\n",
       "    <tr>\n",
       "      <th>3</th>\n",
       "      <td>Rigellute/spotify-tui</td>\n",
       "      <td>Rust</td>\n",
       "      <td># Spotify TUI\\n\\n![Continuous Integration](htt...</td>\n",
       "    </tr>\n",
       "    <tr>\n",
       "      <th>4</th>\n",
       "      <td>JohnnyCrazy/SpotifyAPI-NET</td>\n",
       "      <td>C#</td>\n",
       "      <td>\\n&lt;h1 align=\"center\"&gt;\\n  &lt;p align=\"center\"&gt;Spo...</td>\n",
       "    </tr>\n",
       "  </tbody>\n",
       "</table>\n",
       "</div>"
      ],
      "text/plain": [
       "                         repo language  \\\n",
       "0                zmb3/spotify       Go   \n",
       "1   spotDL/spotify-downloader   Python   \n",
       "2           Spotifyd/spotifyd     Rust   \n",
       "3       Rigellute/spotify-tui     Rust   \n",
       "4  JohnnyCrazy/SpotifyAPI-NET       C#   \n",
       "\n",
       "                                     readme_contents  \n",
       "0  \\nSpotify\\n=======\\n\\n[![GoDoc](https://godoc....  \n",
       "1  <!--- mdformat-toc start --slug=github --->\\n\\...  \n",
       "2  # Spotifyd <!-- omit in toc -->\\n<!-- ALL-CONT...  \n",
       "3  # Spotify TUI\\n\\n![Continuous Integration](htt...  \n",
       "4  \\n<h1 align=\"center\">\\n  <p align=\"center\">Spo...  "
      ]
     },
     "execution_count": 3,
     "metadata": {},
     "output_type": "execute_result"
    }
   ],
   "source": [
    "df.head()"
   ]
  },
  {
   "cell_type": "markdown",
   "id": "9116d105",
   "metadata": {},
   "source": [
    "# Prepare "
   ]
  },
  {
   "cell_type": "code",
   "execution_count": 4,
   "id": "9a5d63db",
   "metadata": {},
   "outputs": [],
   "source": [
    "df = df.dropna()"
   ]
  },
  {
   "cell_type": "code",
   "execution_count": 11,
   "id": "fd69681c",
   "metadata": {
    "scrolled": true
   },
   "outputs": [],
   "source": [
    "df= prepare_df(df,'readme_contents', extra_words = ['also', '&#9', 'e', 'f', 'ou', 'et', 'n', '1', \"'\", ';', '3', 'e', 'p'])"
   ]
  },
  {
   "cell_type": "code",
   "execution_count": 9,
   "id": "023ebe71",
   "metadata": {},
   "outputs": [
    {
     "data": {
      "text/plain": [
       "other         338\n",
       "JavaScript    271\n",
       "Python        187\n",
       "TypeScript     71\n",
       "Shell          36\n",
       "C#             28\n",
       "Name: language, dtype: int64"
      ]
     },
     "execution_count": 9,
     "metadata": {},
     "output_type": "execute_result"
    }
   ],
   "source": [
    "df.language.value_counts()"
   ]
  },
  {
   "cell_type": "markdown",
   "id": "6f6cc678",
   "metadata": {},
   "source": [
    "### Split the data"
   ]
  },
  {
   "cell_type": "code",
   "execution_count": null,
   "id": "c293847a",
   "metadata": {},
   "outputs": [],
   "source": []
  },
  {
   "cell_type": "markdown",
   "id": "e8fa4edf",
   "metadata": {},
   "source": [
    "# Exploration "
   ]
  },
  {
   "cell_type": "code",
   "execution_count": null,
   "id": "c0fa2981",
   "metadata": {},
   "outputs": [],
   "source": []
  },
  {
   "cell_type": "code",
   "execution_count": null,
   "id": "af4cf2ac",
   "metadata": {},
   "outputs": [],
   "source": []
  },
  {
   "cell_type": "code",
   "execution_count": null,
   "id": "82f5dcd0",
   "metadata": {},
   "outputs": [],
   "source": []
  },
  {
   "cell_type": "code",
   "execution_count": null,
   "id": "ca88fd04",
   "metadata": {},
   "outputs": [],
   "source": []
  },
  {
   "cell_type": "markdown",
   "id": "c76d1400",
   "metadata": {},
   "source": [
    "# Modeling"
   ]
  },
  {
   "cell_type": "code",
   "execution_count": null,
   "id": "dcdf07ee",
   "metadata": {},
   "outputs": [],
   "source": []
  },
  {
   "cell_type": "code",
   "execution_count": null,
   "id": "fe474ea0",
   "metadata": {},
   "outputs": [],
   "source": []
  },
  {
   "cell_type": "code",
   "execution_count": null,
   "id": "5529a3dc",
   "metadata": {},
   "outputs": [],
   "source": []
  },
  {
   "cell_type": "code",
   "execution_count": null,
   "id": "45e32f9f",
   "metadata": {},
   "outputs": [],
   "source": []
  },
  {
   "cell_type": "code",
   "execution_count": null,
   "id": "34c5ed92",
   "metadata": {},
   "outputs": [],
   "source": []
  },
  {
   "cell_type": "code",
   "execution_count": null,
   "id": "283a1738",
   "metadata": {},
   "outputs": [],
   "source": []
  },
  {
   "cell_type": "code",
   "execution_count": null,
   "id": "d1680e94",
   "metadata": {},
   "outputs": [],
   "source": []
  },
  {
   "cell_type": "code",
   "execution_count": null,
   "id": "eba9ae05",
   "metadata": {},
   "outputs": [],
   "source": []
  },
  {
   "cell_type": "code",
   "execution_count": null,
   "id": "13c37d27",
   "metadata": {},
   "outputs": [],
   "source": []
  },
  {
   "cell_type": "code",
   "execution_count": null,
   "id": "32a708d0",
   "metadata": {},
   "outputs": [],
   "source": []
  },
  {
   "cell_type": "code",
   "execution_count": null,
   "id": "b88affd9",
   "metadata": {},
   "outputs": [],
   "source": []
  },
  {
   "cell_type": "code",
   "execution_count": null,
   "id": "a9c8d452",
   "metadata": {},
   "outputs": [],
   "source": []
  },
  {
   "cell_type": "markdown",
   "id": "43cb68e0",
   "metadata": {},
   "source": [
    "# Conclusion "
   ]
  },
  {
   "cell_type": "code",
   "execution_count": null,
   "id": "a05210f1",
   "metadata": {},
   "outputs": [],
   "source": []
  },
  {
   "cell_type": "code",
   "execution_count": null,
   "id": "cd2af7fa",
   "metadata": {},
   "outputs": [],
   "source": []
  },
  {
   "cell_type": "code",
   "execution_count": null,
   "id": "9f4a560e",
   "metadata": {},
   "outputs": [],
   "source": []
  },
  {
   "cell_type": "code",
   "execution_count": null,
   "id": "43135897",
   "metadata": {},
   "outputs": [],
   "source": []
  }
 ],
 "metadata": {
  "kernelspec": {
   "display_name": "Python 3 (ipykernel)",
   "language": "python",
   "name": "python3"
  },
  "language_info": {
   "codemirror_mode": {
    "name": "ipython",
    "version": 3
   },
   "file_extension": ".py",
   "mimetype": "text/x-python",
   "name": "python",
   "nbconvert_exporter": "python",
   "pygments_lexer": "ipython3",
   "version": "3.9.7"
  }
 },
 "nbformat": 4,
 "nbformat_minor": 5
}
