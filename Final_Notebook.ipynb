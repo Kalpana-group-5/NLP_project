{
 "cells": [
  {
   "cell_type": "markdown",
   "id": "0217aaee",
   "metadata": {},
   "source": [
    "# Spotify Natural Language Processing Project"
   ]
  },
  {
   "cell_type": "markdown",
   "id": "9296e5f1",
   "metadata": {},
   "source": [
    "### By: Daniel Ford, Glady Barrios, Kevin Smith\n",
    "\n",
    "Kalpana Cohort \n",
    "\n",
    "Spetember 8, 2022"
   ]
  },
  {
   "cell_type": "markdown",
   "id": "858d09f2",
   "metadata": {},
   "source": [
    "----"
   ]
  },
  {
   "cell_type": "markdown",
   "id": "1b5a4dd0",
   "metadata": {},
   "source": [
    "# Project Goal"
   ]
  },
  {
   "cell_type": "markdown",
   "id": "e80e11d5",
   "metadata": {},
   "source": [
    "- The goal of this project is to use natural language processing and classification models to identify terms for predicting a readme's primary language on Github."
   ]
  },
  {
   "cell_type": "markdown",
   "id": "02360cd4",
   "metadata": {},
   "source": [
    "---"
   ]
  },
  {
   "cell_type": "markdown",
   "id": "1c0332e8",
   "metadata": {},
   "source": [
    "# Inital Questions "
   ]
  },
  {
   "cell_type": "markdown",
   "id": "a4f168f4",
   "metadata": {},
   "source": [
    " - What are the top 5 programming languages when searching for 'Spotify' repos on github?\n",
    " - What are the most common words we would see when searching for spotify README's?\n",
    " - From these top 5 programing languages what are the most common words from these languages?\n",
    " - What are some common bigrams in the diffrent programming languages? \n"
   ]
  },
  {
   "cell_type": "markdown",
   "id": "786b500b",
   "metadata": {},
   "source": [
    "### Mini-data dictionary"
   ]
  },
  {
   "cell_type": "markdown",
   "id": "28ed1477",
   "metadata": {},
   "source": [
    "---\n",
    "| Attribute | Definition | Data Type |\n",
    "| ----- | ----- | ----- |\n",
    "|Repo |The username of the REPO|object |\n",
    "|readme_contents |What is inside the readme | object|\n",
    "|language|the programming language |object |\n",
    "|lemmatized|prepared data |object |\n"
   ]
  },
  {
   "cell_type": "markdown",
   "id": "5ee66f4c",
   "metadata": {},
   "source": [
    "### Important Libraries"
   ]
  },
  {
   "cell_type": "code",
   "execution_count": 2,
   "id": "a18380d9",
   "metadata": {},
   "outputs": [],
   "source": [
    "import pandas as pd\n",
    "import numpy as np\n",
    "import unicodedata\n",
    "import re, os\n",
    "import json\n",
    "%matplotlib inline\n",
    "\n",
    "import matplotlib.pyplot as plt\n",
    "import seaborn as sns\n",
    "from wordcloud import WordCloud\n",
    "\n",
    "from sklearn.feature_extraction.text import TfidfVectorizer\n",
    "import nltk\n",
    "from nltk.tokenize.toktok import ToktokTokenizer\n",
    "from nltk.corpus import stopwords\n",
    "from sklearn.feature_extraction.text import CountVectorizer\n",
    "from sklearn.model_selection import train_test_split\n",
    "\n",
    "from scipy.stats import zscore\n",
    "\n",
    "from sklearn.linear_model import LogisticRegression, SGDClassifier\n",
    "from sklearn.ensemble import RandomForestClassifier\n",
    "from sklearn.metrics import classification_report, accuracy_score\n",
    "from sklearn.preprocessing import StandardScaler, Normalizer\n",
    "from sklearn.pipeline import make_pipeline,Pipeline\n",
    "\n",
    "import time\n",
    "import random\n",
    "from requests import get\n",
    "from bs4 import BeautifulSoup\n",
    "#the aquire takes a while\n",
    "import acquire\n",
    "\n",
    "import prepare\n",
    "\n",
    "import warnings\n",
    "warnings.filterwarnings(\"ignore\")"
   ]
  },
  {
   "cell_type": "markdown",
   "id": "ae593fe6",
   "metadata": {},
   "source": [
    "# Acquire\n",
    "---\n",
    "\n",
    "To acquire the data first we needed to scrape the links for the individual repos from github by iterating through the pages of search results and grabbing the 10 links from each page. \n",
    "\n",
    "Once this step was completed we were able to populate a dataframe with the name of the repo, the main coding language, and the contents of the README file associated with the repo by utilizing different functions that gathered those pieces of data from the github API. \n",
    "\n",
    "Both process were wrapped in a TQDM progress bar because the acquisition took about 45 minutes altogether, and having a progress bar allowed us to know if the function was still working, or if it had timed out."
   ]
  },
  {
   "cell_type": "code",
   "execution_count": 3,
   "id": "b4beb3e3",
   "metadata": {},
   "outputs": [
    {
     "data": {
      "application/vnd.jupyter.widget-view+json": {
       "model_id": "bd545196220248e9b3ff40ca4c0e49d8",
       "version_major": 2,
       "version_minor": 0
      },
      "text/plain": [
       "Populating DataFrame:   0%|          | 0/1000 [00:00<?, ?it/s]"
      ]
     },
     "metadata": {},
     "output_type": "display_data"
    }
   ],
   "source": [
    "#aqcuiring the data by calling the function \"github_df()\" from our aquire file  \n",
    "df = acquire.github_df()"
   ]
  },
  {
   "cell_type": "code",
   "execution_count": 5,
   "id": "78f5ba0f",
   "metadata": {},
   "outputs": [
    {
     "data": {
      "text/html": [
       "<div>\n",
       "<style scoped>\n",
       "    .dataframe tbody tr th:only-of-type {\n",
       "        vertical-align: middle;\n",
       "    }\n",
       "\n",
       "    .dataframe tbody tr th {\n",
       "        vertical-align: top;\n",
       "    }\n",
       "\n",
       "    .dataframe thead th {\n",
       "        text-align: right;\n",
       "    }\n",
       "</style>\n",
       "<table border=\"1\" class=\"dataframe\">\n",
       "  <thead>\n",
       "    <tr style=\"text-align: right;\">\n",
       "      <th></th>\n",
       "      <th>repo</th>\n",
       "      <th>language</th>\n",
       "      <th>readme_contents</th>\n",
       "    </tr>\n",
       "  </thead>\n",
       "  <tbody>\n",
       "    <tr>\n",
       "      <th>0</th>\n",
       "      <td>zmb3/spotify</td>\n",
       "      <td>Go</td>\n",
       "      <td>\\nSpotify\\n=======\\n\\n[![GoDoc](https://godoc....</td>\n",
       "    </tr>\n",
       "    <tr>\n",
       "      <th>1</th>\n",
       "      <td>spotDL/spotify-downloader</td>\n",
       "      <td>Python</td>\n",
       "      <td>&lt;!--- mdformat-toc start --slug=github ---&gt;\\n\\...</td>\n",
       "    </tr>\n",
       "    <tr>\n",
       "      <th>2</th>\n",
       "      <td>Spotifyd/spotifyd</td>\n",
       "      <td>Rust</td>\n",
       "      <td># Spotifyd &lt;!-- omit in toc --&gt;\\n&lt;!-- ALL-CONT...</td>\n",
       "    </tr>\n",
       "    <tr>\n",
       "      <th>3</th>\n",
       "      <td>Rigellute/spotify-tui</td>\n",
       "      <td>Rust</td>\n",
       "      <td># Spotify TUI\\n\\n![Continuous Integration](htt...</td>\n",
       "    </tr>\n",
       "    <tr>\n",
       "      <th>4</th>\n",
       "      <td>JohnnyCrazy/SpotifyAPI-NET</td>\n",
       "      <td>C#</td>\n",
       "      <td>\\n&lt;h1 align=\"center\"&gt;\\n  &lt;p align=\"center\"&gt;Spo...</td>\n",
       "    </tr>\n",
       "  </tbody>\n",
       "</table>\n",
       "</div>"
      ],
      "text/plain": [
       "                         repo language  \\\n",
       "0                zmb3/spotify       Go   \n",
       "1   spotDL/spotify-downloader   Python   \n",
       "2           Spotifyd/spotifyd     Rust   \n",
       "3       Rigellute/spotify-tui     Rust   \n",
       "4  JohnnyCrazy/SpotifyAPI-NET       C#   \n",
       "\n",
       "                                     readme_contents  \n",
       "0  \\nSpotify\\n=======\\n\\n[![GoDoc](https://godoc....  \n",
       "1  <!--- mdformat-toc start --slug=github --->\\n\\...  \n",
       "2  # Spotifyd <!-- omit in toc -->\\n<!-- ALL-CONT...  \n",
       "3  # Spotify TUI\\n\\n![Continuous Integration](htt...  \n",
       "4  \\n<h1 align=\"center\">\\n  <p align=\"center\">Spo...  "
      ]
     },
     "execution_count": 5,
     "metadata": {},
     "output_type": "execute_result"
    }
   ],
   "source": [
    "#.head() contains the first five rows of the dataset \n",
    "df.head()"
   ]
  },
  {
   "cell_type": "markdown",
   "id": "9116d105",
   "metadata": {},
   "source": [
    "# Prepare "
   ]
  },
  {
   "cell_type": "code",
   "execution_count": 6,
   "id": "fd69681c",
   "metadata": {
    "scrolled": true
   },
   "outputs": [],
   "source": [
    "#preparing the data by calling the function \"prepare_df()\" from our prepare.py file \n",
    "df= prepare.prepare_df(df,'readme_contents')"
   ]
  },
  {
   "cell_type": "code",
   "execution_count": 7,
   "id": "023ebe71",
   "metadata": {
    "scrolled": true
   },
   "outputs": [
    {
     "data": {
      "text/html": [
       "<div>\n",
       "<style scoped>\n",
       "    .dataframe tbody tr th:only-of-type {\n",
       "        vertical-align: middle;\n",
       "    }\n",
       "\n",
       "    .dataframe tbody tr th {\n",
       "        vertical-align: top;\n",
       "    }\n",
       "\n",
       "    .dataframe thead th {\n",
       "        text-align: right;\n",
       "    }\n",
       "</style>\n",
       "<table border=\"1\" class=\"dataframe\">\n",
       "  <thead>\n",
       "    <tr style=\"text-align: right;\">\n",
       "      <th></th>\n",
       "      <th>repo</th>\n",
       "      <th>language</th>\n",
       "      <th>readme_contents</th>\n",
       "      <th>clean</th>\n",
       "      <th>stemmed</th>\n",
       "      <th>lemmatized</th>\n",
       "      <th>original_length</th>\n",
       "      <th>stem_length</th>\n",
       "      <th>lem_length</th>\n",
       "      <th>original_word_count</th>\n",
       "      <th>stemmed_word_count</th>\n",
       "      <th>lemmatized_word_count</th>\n",
       "    </tr>\n",
       "  </thead>\n",
       "  <tbody>\n",
       "    <tr>\n",
       "      <th>0</th>\n",
       "      <td>zmb3/spotify</td>\n",
       "      <td>other</td>\n",
       "      <td>\\nSpotify\\n=======\\n\\n[![GoDoc](https://godoc....</td>\n",
       "      <td>spotify godochttpsgodocorggithubcomzmb3spotify...</td>\n",
       "      <td>spotifi godochttpsgodocorggithubcomzmb3spotify...</td>\n",
       "      <td>spotify godochttpsgodocorggithubcomzmb3spotify...</td>\n",
       "      <td>3918</td>\n",
       "      <td>2352</td>\n",
       "      <td>2640</td>\n",
       "      <td>503</td>\n",
       "      <td>276</td>\n",
       "      <td>276</td>\n",
       "    </tr>\n",
       "    <tr>\n",
       "      <th>1</th>\n",
       "      <td>spotDL/spotify-downloader</td>\n",
       "      <td>Python</td>\n",
       "      <td>&lt;!--- mdformat-toc start --slug=github ---&gt;\\n\\...</td>\n",
       "      <td>mdformattoc start sluggithub editing readme en...</td>\n",
       "      <td>mdformattoc start sluggithub edit readm ensur ...</td>\n",
       "      <td>mdformattoc start sluggithub editing readme en...</td>\n",
       "      <td>4300</td>\n",
       "      <td>2834</td>\n",
       "      <td>3021</td>\n",
       "      <td>471</td>\n",
       "      <td>277</td>\n",
       "      <td>277</td>\n",
       "    </tr>\n",
       "    <tr>\n",
       "      <th>2</th>\n",
       "      <td>Spotifyd/spotifyd</td>\n",
       "      <td>other</td>\n",
       "      <td># Spotifyd &lt;!-- omit in toc --&gt;\\n&lt;!-- ALL-CONT...</td>\n",
       "      <td>spotifyd omit toc allcontributorsbadgestart re...</td>\n",
       "      <td>spotifyd omit toc allcontributorsbadgestart re...</td>\n",
       "      <td>spotifyd omit toc allcontributorsbadgestart re...</td>\n",
       "      <td>2177</td>\n",
       "      <td>1482</td>\n",
       "      <td>1576</td>\n",
       "      <td>231</td>\n",
       "      <td>136</td>\n",
       "      <td>136</td>\n",
       "    </tr>\n",
       "    <tr>\n",
       "      <th>3</th>\n",
       "      <td>Rigellute/spotify-tui</td>\n",
       "      <td>other</td>\n",
       "      <td># Spotify TUI\\n\\n![Continuous Integration](htt...</td>\n",
       "      <td>spotify tui continuous integrationhttpsgithubc...</td>\n",
       "      <td>spotifi tui continu integrationhttpsgithubcomr...</td>\n",
       "      <td>spotify tui continuous integrationhttpsgithubc...</td>\n",
       "      <td>59878</td>\n",
       "      <td>32960</td>\n",
       "      <td>34049</td>\n",
       "      <td>3857</td>\n",
       "      <td>2495</td>\n",
       "      <td>2495</td>\n",
       "    </tr>\n",
       "    <tr>\n",
       "      <th>4</th>\n",
       "      <td>JohnnyCrazy/SpotifyAPI-NET</td>\n",
       "      <td>C#</td>\n",
       "      <td>\\n&lt;h1 align=\"center\"&gt;\\n  &lt;p align=\"center\"&gt;Spo...</td>\n",
       "      <td>h1 aligncenter aligncenterspotifyapinetp hrefh...</td>\n",
       "      <td>h1 aligncent aligncenterspotifyapinetp hrefhtt...</td>\n",
       "      <td>h1 aligncenter aligncenterspotifyapinetp hrefh...</td>\n",
       "      <td>2782</td>\n",
       "      <td>1881</td>\n",
       "      <td>2009</td>\n",
       "      <td>272</td>\n",
       "      <td>169</td>\n",
       "      <td>169</td>\n",
       "    </tr>\n",
       "  </tbody>\n",
       "</table>\n",
       "</div>"
      ],
      "text/plain": [
       "                         repo language  \\\n",
       "0                zmb3/spotify    other   \n",
       "1   spotDL/spotify-downloader   Python   \n",
       "2           Spotifyd/spotifyd    other   \n",
       "3       Rigellute/spotify-tui    other   \n",
       "4  JohnnyCrazy/SpotifyAPI-NET       C#   \n",
       "\n",
       "                                     readme_contents  \\\n",
       "0  \\nSpotify\\n=======\\n\\n[![GoDoc](https://godoc....   \n",
       "1  <!--- mdformat-toc start --slug=github --->\\n\\...   \n",
       "2  # Spotifyd <!-- omit in toc -->\\n<!-- ALL-CONT...   \n",
       "3  # Spotify TUI\\n\\n![Continuous Integration](htt...   \n",
       "4  \\n<h1 align=\"center\">\\n  <p align=\"center\">Spo...   \n",
       "\n",
       "                                               clean  \\\n",
       "0  spotify godochttpsgodocorggithubcomzmb3spotify...   \n",
       "1  mdformattoc start sluggithub editing readme en...   \n",
       "2  spotifyd omit toc allcontributorsbadgestart re...   \n",
       "3  spotify tui continuous integrationhttpsgithubc...   \n",
       "4  h1 aligncenter aligncenterspotifyapinetp hrefh...   \n",
       "\n",
       "                                             stemmed  \\\n",
       "0  spotifi godochttpsgodocorggithubcomzmb3spotify...   \n",
       "1  mdformattoc start sluggithub edit readm ensur ...   \n",
       "2  spotifyd omit toc allcontributorsbadgestart re...   \n",
       "3  spotifi tui continu integrationhttpsgithubcomr...   \n",
       "4  h1 aligncent aligncenterspotifyapinetp hrefhtt...   \n",
       "\n",
       "                                          lemmatized  original_length  \\\n",
       "0  spotify godochttpsgodocorggithubcomzmb3spotify...             3918   \n",
       "1  mdformattoc start sluggithub editing readme en...             4300   \n",
       "2  spotifyd omit toc allcontributorsbadgestart re...             2177   \n",
       "3  spotify tui continuous integrationhttpsgithubc...            59878   \n",
       "4  h1 aligncenter aligncenterspotifyapinetp hrefh...             2782   \n",
       "\n",
       "   stem_length  lem_length  original_word_count  stemmed_word_count  \\\n",
       "0         2352        2640                  503                 276   \n",
       "1         2834        3021                  471                 277   \n",
       "2         1482        1576                  231                 136   \n",
       "3        32960       34049                 3857                2495   \n",
       "4         1881        2009                  272                 169   \n",
       "\n",
       "   lemmatized_word_count  \n",
       "0                    276  \n",
       "1                    277  \n",
       "2                    136  \n",
       "3                   2495  \n",
       "4                    169  "
      ]
     },
     "execution_count": 7,
     "metadata": {},
     "output_type": "execute_result"
    }
   ],
   "source": [
    "#lets look at the data now that it has been prepared\n",
    "df.head()"
   ]
  },
  {
   "cell_type": "markdown",
   "id": "dfb118fd",
   "metadata": {},
   "source": [
    "### What we did to prepare the data\n",
    "\n",
    "- lowercase the readme contents to avoid case sensitivity\n",
    "\n",
    "- remove any inconsistencies in unicode character encoding\n",
    "\n",
    "- remove special characters, such as non-alphanumeric characters that could cause extra noise\n",
    "\n",
    "- tokenize the data\n",
    "\n",
    "- stemming the data\n",
    "\n",
    "- apply lemmatization\n",
    "\n",
    "- remove unnecessary stopwords\n",
    "\n",
    "- remove where the readme contents were null\n",
    "\n",
    "- generate additional features for exploration and modeling such as README length and word counts "
   ]
  },
  {
   "cell_type": "markdown",
   "id": "6f6cc678",
   "metadata": {},
   "source": [
    "## Split the data"
   ]
  },
  {
   "cell_type": "code",
   "execution_count": 8,
   "id": "c293847a",
   "metadata": {},
   "outputs": [],
   "source": [
    "#this will help us better explore the data\n",
    "train, validate, test = prepare.train_validate_test_split(df)"
   ]
  },
  {
   "cell_type": "code",
   "execution_count": 9,
   "id": "d5ca554b",
   "metadata": {},
   "outputs": [
    {
     "data": {
      "text/plain": [
       "((540, 12), (232, 12), (193, 12))"
      ]
     },
     "execution_count": 9,
     "metadata": {},
     "output_type": "execute_result"
    }
   ],
   "source": [
    "train.shape, validate.shape, test.shape"
   ]
  },
  {
   "cell_type": "markdown",
   "id": "e8fa4edf",
   "metadata": {},
   "source": [
    "# Exploration "
   ]
  },
  {
   "cell_type": "markdown",
   "id": "7dbba75a",
   "metadata": {},
   "source": [
    "## Question 1- What are the top 5 programming languages when searching for 'Spotify' repos on github?"
   ]
  },
  {
   "cell_type": "code",
   "execution_count": 10,
   "id": "af4cf2ac",
   "metadata": {},
   "outputs": [
    {
     "data": {
      "text/plain": [
       "other         354\n",
       "JavaScript    282\n",
       "Python        194\n",
       "TypeScript     68\n",
       "Shell          39\n",
       "C#             28\n",
       "Name: language, dtype: int64"
      ]
     },
     "execution_count": 10,
     "metadata": {},
     "output_type": "execute_result"
    }
   ],
   "source": [
    "df.language.value_counts()"
   ]
  },
  {
   "cell_type": "markdown",
   "id": "f4d2b3c0",
   "metadata": {},
   "source": [
    "#### Looks like the top 5 Programing languages are \n",
    "\n",
    ">- JavaScript \n",
    ">- Python\n",
    ">- TypeScript\n",
    ">- Shell\n",
    ">- C#"
   ]
  },
  {
   "cell_type": "markdown",
   "id": "54c91c8a",
   "metadata": {},
   "source": [
    "## Question 2- What are the most common words we would see when searching for spotify README's?"
   ]
  },
  {
   "cell_type": "code",
   "execution_count": 11,
   "id": "71599254",
   "metadata": {},
   "outputs": [],
   "source": [
    "labels2 = pd.concat([train.language.value_counts(),\n",
    "                    train.language.value_counts(normalize=True)], axis=1)\n",
    "labels2.columns = ['n', 'percent']\n"
   ]
  },
  {
   "cell_type": "code",
   "execution_count": 12,
   "id": "1f5897ea",
   "metadata": {},
   "outputs": [],
   "source": [
    "Java_words = (' '.join(train[train.language == 'JavaScript'].lemmatized)).split()\n",
    "python_words = (' '.join(train[train.language == 'Python'].lemmatized)).split()\n",
    "type_words= (' '.join(train[train.language == 'TypeScript'].lemmatized)).split()\n",
    "Shell_words= (' '.join(train[train.language == 'Shell'].lemmatized)).split()\n",
    "c_words= (' '.join(train[train.language == 'C#'].lemmatized)).split()\n",
    "all_words = (' '.join(train.lemmatized)).split()"
   ]
  },
  {
   "cell_type": "code",
   "execution_count": 13,
   "id": "2d070327",
   "metadata": {},
   "outputs": [],
   "source": [
    "Java_freq = pd.Series(Java_words).value_counts()\n",
    "python_freq = pd.Series(python_words).value_counts()\n",
    "all_freq = pd.Series(all_words).value_counts()\n",
    "type_freq = pd.Series(type_words).value_counts()\n",
    "c_freq = pd.Series(c_words).value_counts()\n",
    "shell_freq = pd.Series(Shell_words).value_counts()"
   ]
  },
  {
   "cell_type": "code",
   "execution_count": 14,
   "id": "7c5fcb93",
   "metadata": {},
   "outputs": [
    {
     "data": {
      "text/plain": [
       "spotify     2962\n",
       "track       1235\n",
       "playlist    1215\n",
       "use          862\n",
       "song         850\n",
       "install      809\n",
       "user         805\n",
       "api          774\n",
       "run          772\n",
       "get          766\n",
       "dtype: int64"
      ]
     },
     "execution_count": 14,
     "metadata": {},
     "output_type": "execute_result"
    }
   ],
   "source": [
    "all_freq.head(10)"
   ]
  },
  {
   "cell_type": "markdown",
   "id": "6766ab27",
   "metadata": {},
   "source": [
    "## Question 3- From these top 5 programing languages what are the most common words from these languages?"
   ]
  },
  {
   "cell_type": "code",
   "execution_count": 15,
   "id": "c16f362f",
   "metadata": {},
   "outputs": [],
   "source": [
    "word_counts = (pd.concat([Java_freq, python_freq, all_freq, type_freq,c_freq, shell_freq], axis=1, sort=True)\n",
    "              .set_axis(['java','python', 'all', 'TypeScript','C#', 'Shell'], axis=1, inplace=False)\n",
    "              .fillna(0)\n",
    "              .apply(lambda s: s.astype(int)))"
   ]
  },
  {
   "cell_type": "code",
   "execution_count": 16,
   "id": "44f36f36",
   "metadata": {
    "scrolled": true
   },
   "outputs": [
    {
     "data": {
      "text/html": [
       "<div>\n",
       "<style scoped>\n",
       "    .dataframe tbody tr th:only-of-type {\n",
       "        vertical-align: middle;\n",
       "    }\n",
       "\n",
       "    .dataframe tbody tr th {\n",
       "        vertical-align: top;\n",
       "    }\n",
       "\n",
       "    .dataframe thead th {\n",
       "        text-align: right;\n",
       "    }\n",
       "</style>\n",
       "<table border=\"1\" class=\"dataframe\">\n",
       "  <thead>\n",
       "    <tr style=\"text-align: right;\">\n",
       "      <th></th>\n",
       "      <th>java</th>\n",
       "      <th>python</th>\n",
       "      <th>all</th>\n",
       "      <th>TypeScript</th>\n",
       "      <th>C#</th>\n",
       "      <th>Shell</th>\n",
       "    </tr>\n",
       "  </thead>\n",
       "  <tbody>\n",
       "    <tr>\n",
       "      <th>spotify</th>\n",
       "      <td>683</td>\n",
       "      <td>655</td>\n",
       "      <td>2962</td>\n",
       "      <td>252</td>\n",
       "      <td>110</td>\n",
       "      <td>111</td>\n",
       "    </tr>\n",
       "    <tr>\n",
       "      <th>track</th>\n",
       "      <td>213</td>\n",
       "      <td>293</td>\n",
       "      <td>1235</td>\n",
       "      <td>129</td>\n",
       "      <td>75</td>\n",
       "      <td>20</td>\n",
       "    </tr>\n",
       "    <tr>\n",
       "      <th>playlist</th>\n",
       "      <td>189</td>\n",
       "      <td>456</td>\n",
       "      <td>1215</td>\n",
       "      <td>135</td>\n",
       "      <td>47</td>\n",
       "      <td>6</td>\n",
       "    </tr>\n",
       "    <tr>\n",
       "      <th>use</th>\n",
       "      <td>237</td>\n",
       "      <td>157</td>\n",
       "      <td>862</td>\n",
       "      <td>58</td>\n",
       "      <td>25</td>\n",
       "      <td>29</td>\n",
       "    </tr>\n",
       "    <tr>\n",
       "      <th>song</th>\n",
       "      <td>124</td>\n",
       "      <td>309</td>\n",
       "      <td>850</td>\n",
       "      <td>47</td>\n",
       "      <td>19</td>\n",
       "      <td>12</td>\n",
       "    </tr>\n",
       "    <tr>\n",
       "      <th>install</th>\n",
       "      <td>183</td>\n",
       "      <td>269</td>\n",
       "      <td>809</td>\n",
       "      <td>43</td>\n",
       "      <td>3</td>\n",
       "      <td>44</td>\n",
       "    </tr>\n",
       "    <tr>\n",
       "      <th>user</th>\n",
       "      <td>201</td>\n",
       "      <td>124</td>\n",
       "      <td>805</td>\n",
       "      <td>104</td>\n",
       "      <td>15</td>\n",
       "      <td>8</td>\n",
       "    </tr>\n",
       "    <tr>\n",
       "      <th>api</th>\n",
       "      <td>200</td>\n",
       "      <td>187</td>\n",
       "      <td>774</td>\n",
       "      <td>34</td>\n",
       "      <td>32</td>\n",
       "      <td>3</td>\n",
       "    </tr>\n",
       "    <tr>\n",
       "      <th>run</th>\n",
       "      <td>246</td>\n",
       "      <td>193</td>\n",
       "      <td>772</td>\n",
       "      <td>80</td>\n",
       "      <td>6</td>\n",
       "      <td>24</td>\n",
       "    </tr>\n",
       "    <tr>\n",
       "      <th>get</th>\n",
       "      <td>186</td>\n",
       "      <td>134</td>\n",
       "      <td>766</td>\n",
       "      <td>136</td>\n",
       "      <td>13</td>\n",
       "      <td>10</td>\n",
       "    </tr>\n",
       "    <tr>\n",
       "      <th>file</th>\n",
       "      <td>201</td>\n",
       "      <td>216</td>\n",
       "      <td>711</td>\n",
       "      <td>28</td>\n",
       "      <td>21</td>\n",
       "      <td>21</td>\n",
       "    </tr>\n",
       "    <tr>\n",
       "      <th>app</th>\n",
       "      <td>264</td>\n",
       "      <td>79</td>\n",
       "      <td>653</td>\n",
       "      <td>47</td>\n",
       "      <td>6</td>\n",
       "      <td>2</td>\n",
       "    </tr>\n",
       "    <tr>\n",
       "      <th>using</th>\n",
       "      <td>135</td>\n",
       "      <td>137</td>\n",
       "      <td>634</td>\n",
       "      <td>35</td>\n",
       "      <td>17</td>\n",
       "      <td>17</td>\n",
       "    </tr>\n",
       "    <tr>\n",
       "      <th>artist</th>\n",
       "      <td>95</td>\n",
       "      <td>130</td>\n",
       "      <td>632</td>\n",
       "      <td>67</td>\n",
       "      <td>24</td>\n",
       "      <td>10</td>\n",
       "    </tr>\n",
       "    <tr>\n",
       "      <th>client</th>\n",
       "      <td>149</td>\n",
       "      <td>121</td>\n",
       "      <td>566</td>\n",
       "      <td>49</td>\n",
       "      <td>15</td>\n",
       "      <td>15</td>\n",
       "    </tr>\n",
       "  </tbody>\n",
       "</table>\n",
       "</div>"
      ],
      "text/plain": [
       "          java  python   all  TypeScript   C#  Shell\n",
       "spotify    683     655  2962         252  110    111\n",
       "track      213     293  1235         129   75     20\n",
       "playlist   189     456  1215         135   47      6\n",
       "use        237     157   862          58   25     29\n",
       "song       124     309   850          47   19     12\n",
       "install    183     269   809          43    3     44\n",
       "user       201     124   805         104   15      8\n",
       "api        200     187   774          34   32      3\n",
       "run        246     193   772          80    6     24\n",
       "get        186     134   766         136   13     10\n",
       "file       201     216   711          28   21     21\n",
       "app        264      79   653          47    6      2\n",
       "using      135     137   634          35   17     17\n",
       "artist      95     130   632          67   24     10\n",
       "client     149     121   566          49   15     15"
      ]
     },
     "execution_count": 16,
     "metadata": {},
     "output_type": "execute_result"
    }
   ],
   "source": [
    "word_counts.sort_values(by='all', ascending=False).head(15)"
   ]
  },
  {
   "cell_type": "markdown",
   "id": "155410f6",
   "metadata": {},
   "source": [
    "## Question 4 - What are some common bigrams in the diffrent programming languages?"
   ]
  },
  {
   "cell_type": "markdown",
   "id": "519f5e11",
   "metadata": {},
   "source": [
    "## JAVA"
   ]
  },
  {
   "cell_type": "code",
   "execution_count": 17,
   "id": "f4918caf",
   "metadata": {},
   "outputs": [
    {
     "data": {
      "image/png": "[encoded data removed]",
      "text/plain": [
       "<Figure size 720x432 with 1 Axes>"
      ]
     },
     "metadata": {
      "needs_background": "light"
     },
     "output_type": "display_data"
    }
   ],
   "source": [
    "top_20_java_bigrams = (pd.Series(nltk.ngrams(Java_words, 2))\n",
    "                      .value_counts()\n",
    "                      .head(20))\n",
    "top_20_java_bigrams.sort_values(ascending=False).plot.barh(color='pink', width=.9, figsize=(10, 6))\n",
    "\n",
    "plt.title('20 Most frequently occuring Java bigrams')\n",
    "plt.ylabel('Bigram')\n",
    "plt.xlabel('# Occurances')\n",
    "\n",
    "# make the labels pretty\n",
    "ticks, _ = plt.yticks()\n",
    "labels = top_20_java_bigrams.reset_index()['index'].apply(lambda t: t[0] + ' ' + t[1])\n",
    "_ = plt.yticks(ticks, labels)\n"
   ]
  },
  {
   "cell_type": "markdown",
   "id": "fb69a947",
   "metadata": {},
   "source": [
    "## Python"
   ]
  },
  {
   "cell_type": "code",
   "execution_count": 18,
   "id": "020c0f4f",
   "metadata": {},
   "outputs": [
    {
     "data": {
      "image/png": "[encoded data removed]",
      "text/plain": [
       "<Figure size 720x432 with 1 Axes>"
      ]
     },
     "metadata": {
      "needs_background": "light"
     },
     "output_type": "display_data"
    }
   ],
   "source": [
    "top_20_python_bigrams = (pd.Series(nltk.ngrams(python_words, 2))\n",
    "                      .value_counts()\n",
    "                      .head(20))\n",
    "\n",
    "top_20_python_bigrams.sort_values(ascending=False).plot.barh(color='green', width=.9, figsize=(10, 6))\n",
    "\n",
    "plt.title('20 Most frequently occuring python bigrams')\n",
    "plt.ylabel('python')\n",
    "plt.xlabel('# Occurances')\n",
    "\n",
    "# make the labels pretty\n",
    "ticks, _ = plt.yticks()\n",
    "labels = top_20_python_bigrams.reset_index()['index'].apply(lambda t: t[0] + ' ' + t[1])\n",
    "_ = plt.yticks(ticks, labels)"
   ]
  },
  {
   "cell_type": "markdown",
   "id": "5ea3e679",
   "metadata": {},
   "source": [
    "## TypeScript"
   ]
  },
  {
   "cell_type": "code",
   "execution_count": 19,
   "id": "94693791",
   "metadata": {},
   "outputs": [
    {
     "data": {
      "image/png": "[encoded data removed]",
      "text/plain": [
       "<Figure size 720x432 with 1 Axes>"
      ]
     },
     "metadata": {
      "needs_background": "light"
     },
     "output_type": "display_data"
    }
   ],
   "source": [
    "top_20_type_bigrams = (pd.Series(nltk.ngrams(type_words, 2))\n",
    "                      .value_counts()\n",
    "                      .head(20))\n",
    "\n",
    "top_20_type_bigrams.sort_values(ascending=False).plot.barh(color='lightblue', width=.9, figsize=(10, 6))\n",
    "\n",
    "plt.title('20 Most frequently occuring TypeScript bigrams')\n",
    "plt.ylabel('TypeScript')\n",
    "plt.xlabel('# Occurances')\n",
    "\n",
    "# make the labels pretty\n",
    "ticks, _ = plt.yticks()\n",
    "labels = top_20_type_bigrams.reset_index()['index'].apply(lambda t: t[0] + ' ' + t[1])\n",
    "_ = plt.yticks(ticks, labels)"
   ]
  },
  {
   "cell_type": "markdown",
   "id": "af0e55cb",
   "metadata": {},
   "source": [
    "## C#"
   ]
  },
  {
   "cell_type": "code",
   "execution_count": 20,
   "id": "14a34326",
   "metadata": {},
   "outputs": [
    {
     "data": {
      "image/png": "[encoded data removed]",
      "text/plain": [
       "<Figure size 720x432 with 1 Axes>"
      ]
     },
     "metadata": {
      "needs_background": "light"
     },
     "output_type": "display_data"
    }
   ],
   "source": [
    "top_20_c_bigrams = (pd.Series(nltk.ngrams(c_words, 2))\n",
    "                      .value_counts()\n",
    "                      .head(20))\n",
    "\n",
    "top_20_c_bigrams.sort_values(ascending=False).plot.barh(color='purple', width=.9, figsize=(10, 6))\n",
    "\n",
    "plt.title('20 Most frequently occuring C# bigrams')\n",
    "plt.ylabel('C#')\n",
    "plt.xlabel('# Occurances')\n",
    "\n",
    "# make the labels pretty\n",
    "ticks, _ = plt.yticks()\n",
    "labels = top_20_c_bigrams.reset_index()['index'].apply(lambda t: t[0] + ' ' + t[1])\n",
    "_ = plt.yticks(ticks, labels)"
   ]
  },
  {
   "cell_type": "markdown",
   "id": "5639a9ce",
   "metadata": {},
   "source": [
    "## Shell"
   ]
  },
  {
   "cell_type": "code",
   "execution_count": 21,
   "id": "a3d44b3c",
   "metadata": {},
   "outputs": [
    {
     "data": {
      "image/png": "[encoded data removed]",
      "text/plain": [
       "<Figure size 720x432 with 1 Axes>"
      ]
     },
     "metadata": {
      "needs_background": "light"
     },
     "output_type": "display_data"
    }
   ],
   "source": [
    "top_20_shell_bigrams = (pd.Series(nltk.ngrams(Shell_words, 2))\n",
    "                      .value_counts()\n",
    "                      .head(20))\n",
    "\n",
    "top_20_shell_bigrams.sort_values(ascending=False).plot.barh(color='orange', width=.9, figsize=(10, 6))\n",
    "\n",
    "plt.title('20 Most frequently occuring C# bigrams')\n",
    "plt.ylabel('shell')\n",
    "plt.xlabel('# Occurances')\n",
    "\n",
    "# make the labels pretty\n",
    "ticks, _ = plt.yticks()\n",
    "labels = top_20_shell_bigrams.reset_index()['index'].apply(lambda t: t[0] + ' ' + t[1])\n",
    "_ = plt.yticks(ticks, labels)"
   ]
  },
  {
   "cell_type": "markdown",
   "id": "9c05b27b",
   "metadata": {},
   "source": [
    "## Exploration Takeaways"
   ]
  },
  {
   "cell_type": "markdown",
   "id": "a8102628",
   "metadata": {},
   "source": [
    "__The top 5 Programing languages are__\n",
    "- JavaScript\n",
    "- Python\n",
    "- TypeScript\n",
    "- Shell\n",
    "- C#\n",
    "\n",
    "__The most commonly used top ten words have between 770 and nearly 3000 specific uses, respectively__\n",
    "\n",
    "\n",
    "__Each of the top 5 programing languages have relatively specific bigrams when looking at most used__"
   ]
  },
  {
   "cell_type": "code",
   "execution_count": null,
   "id": "cb0adf03",
   "metadata": {},
   "outputs": [],
   "source": []
  },
  {
   "cell_type": "code",
   "execution_count": null,
   "id": "65c829ca",
   "metadata": {},
   "outputs": [],
   "source": []
  },
  {
   "cell_type": "markdown",
   "id": "c76d1400",
   "metadata": {},
   "source": [
    "# Modeling"
   ]
  },
  {
   "cell_type": "code",
   "execution_count": 22,
   "id": "dcdf07ee",
   "metadata": {},
   "outputs": [],
   "source": [
    "tfidf = TfidfVectorizer()\n",
    "x = tfidf.fit_transform(df.lemmatized)\n",
    "y = df.language\n",
    "\n",
    "x_train, x_test, y_train, y_test = train_test_split(x, y, stratify=y, test_size=.2, random_state=123)\n",
    "\n",
    "train = pd.DataFrame(dict(actual=y_train))\n",
    "test = pd.DataFrame(dict(actual=y_test))\n",
    "\n",
    "lm = LogisticRegression().fit(x_train, y_train)\n",
    "\n",
    "train['lm_predicted'] = lm.predict(x_train)\n",
    "test['lm_predicted'] = lm.predict(x_test)\n",
    "\n",
    "rf = RandomForestClassifier(min_samples_leaf=2).fit(x_train, y_train)\n",
    "\n",
    "train['rf_predicted'] = rf.predict(x_train)\n",
    "test['rf_predicted'] = rf.predict(x_test)\n",
    "\n",
    "sgd = make_pipeline(Normalizer(),\n",
    "                    SGDClassifier(loss=\"perceptron\", eta0=1, learning_rate=\"constant\", penalty=None))\n",
    "\n",
    "\n",
    "sgd.fit(x_train, y_train)\n",
    "train['sgd_predicted'] = sgd.predict(x_train)\n",
    "test['sgd_predicted'] = sgd.predict(x_test)\n"
   ]
  },
  {
   "cell_type": "markdown",
   "id": "f3166f39",
   "metadata": {},
   "source": [
    "| Model | Accuracy (Train) | Accuracy (Test) | Diffrence |\n",
    "| ---- | ----| ---- |---- |\n",
    "| Logistic Regression Model | 0.82 | N/A |  N/A |\n",
    "| Stochastic Gradient Descent (SGD) | 0.97 | N/A | N/A | \n",
    "| Random Forest | 0.87 | 0.62| 0.25| \n",
    "    \n"
   ]
  },
  {
   "cell_type": "markdown",
   "id": "ff3ffba5",
   "metadata": {},
   "source": [
    "## Logistic Regression Model"
   ]
  },
  {
   "cell_type": "markdown",
   "id": "2e5809b9",
   "metadata": {},
   "source": [
    "### Testing the model on Train"
   ]
  },
  {
   "cell_type": "code",
   "execution_count": 23,
   "id": "34c5ed92",
   "metadata": {},
   "outputs": [
    {
     "name": "stdout",
     "output_type": "stream",
     "text": [
      "Accuracy: 82.12%\n",
      "---\n",
      "              precision    recall  f1-score   support\n",
      "\n",
      "          C#       0.00      0.00      0.00        22\n",
      "  JavaScript       0.85      0.95      0.90       226\n",
      "      Python       0.98      0.87      0.92       155\n",
      "       Shell       1.00      0.06      0.12        31\n",
      "  TypeScript       1.00      0.09      0.17        55\n",
      "       other       0.74      0.98      0.84       283\n",
      "\n",
      "    accuracy                           0.82       772\n",
      "   macro avg       0.76      0.49      0.49       772\n",
      "weighted avg       0.83      0.82      0.77       772\n",
      "\n"
     ]
    }
   ],
   "source": [
    "print('Accuracy: {:.2%}'.format(accuracy_score(train.actual, train.lm_predicted)))\n",
    "print('---')\n",
    "print(classification_report(train.actual, train.lm_predicted))"
   ]
  },
  {
   "cell_type": "markdown",
   "id": "e784353d",
   "metadata": {},
   "source": [
    "## Stochastic Gradient Descent (SGD)"
   ]
  },
  {
   "cell_type": "markdown",
   "id": "abc0acce",
   "metadata": {},
   "source": [
    "### Testing the model on Train"
   ]
  },
  {
   "cell_type": "code",
   "execution_count": 27,
   "id": "e298a5ee",
   "metadata": {},
   "outputs": [
    {
     "name": "stdout",
     "output_type": "stream",
     "text": [
      "Accuracy: 97.15%\n",
      "---\n",
      "              precision    recall  f1-score   support\n",
      "\n",
      "          C#       1.00      0.91      0.95        22\n",
      "  JavaScript       1.00      0.96      0.98       226\n",
      "      Python       0.88      1.00      0.93       155\n",
      "       Shell       1.00      0.97      0.98        31\n",
      "  TypeScript       1.00      0.98      0.99        55\n",
      "       other       1.00      0.97      0.99       283\n",
      "\n",
      "    accuracy                           0.97       772\n",
      "   macro avg       0.98      0.96      0.97       772\n",
      "weighted avg       0.98      0.97      0.97       772\n",
      "\n"
     ]
    }
   ],
   "source": [
    "print('Accuracy: {:.2%}'.format(accuracy_score(train.actual, train.sgd_predicted)))\n",
    "print('---')\n",
    "print(classification_report(train.actual, train.sgd_predicted))"
   ]
  },
  {
   "cell_type": "markdown",
   "id": "5cc3ad92",
   "metadata": {},
   "source": [
    "## Random Forest Classifier"
   ]
  },
  {
   "cell_type": "markdown",
   "id": "5cedf77f",
   "metadata": {},
   "source": [
    "### Testing the model on Train"
   ]
  },
  {
   "cell_type": "code",
   "execution_count": 25,
   "id": "32a708d0",
   "metadata": {},
   "outputs": [
    {
     "name": "stdout",
     "output_type": "stream",
     "text": [
      "Accuracy: 87.31%\n",
      "---\n",
      "              precision    recall  f1-score   support\n",
      "\n",
      "          C#       1.00      0.50      0.67        22\n",
      "  JavaScript       0.92      0.91      0.91       226\n",
      "      Python       0.99      0.90      0.94       155\n",
      "       Shell       1.00      0.39      0.56        31\n",
      "  TypeScript       1.00      0.51      0.67        55\n",
      "       other       0.78      0.99      0.87       283\n",
      "\n",
      "    accuracy                           0.87       772\n",
      "   macro avg       0.95      0.70      0.77       772\n",
      "weighted avg       0.89      0.87      0.86       772\n",
      "\n"
     ]
    }
   ],
   "source": [
    "print('Accuracy: {:.2%}'.format(accuracy_score(train.actual, train.rf_predicted)))\n",
    "print('---')\n",
    "print(classification_report(train.actual, train.rf_predicted))\n"
   ]
  },
  {
   "cell_type": "markdown",
   "id": "80926f78",
   "metadata": {},
   "source": [
    "### Testing the model on Test"
   ]
  },
  {
   "cell_type": "code",
   "execution_count": 26,
   "id": "7a75aea9",
   "metadata": {},
   "outputs": [
    {
     "name": "stdout",
     "output_type": "stream",
     "text": [
      "Accuracy: 61.66%\n",
      "---\n",
      "              precision    recall  f1-score   support\n",
      "\n",
      "          C#       0.00      0.00      0.00         6\n",
      "  JavaScript       0.71      0.52      0.60        56\n",
      "      Python       1.00      0.59      0.74        39\n",
      "       Shell       0.00      0.00      0.00         8\n",
      "  TypeScript       1.00      0.08      0.14        13\n",
      "       other       0.52      0.93      0.66        71\n",
      "\n",
      "    accuracy                           0.62       193\n",
      "   macro avg       0.54      0.35      0.36       193\n",
      "weighted avg       0.66      0.62      0.58       193\n",
      "\n"
     ]
    }
   ],
   "source": [
    "print('Accuracy: {:.2%}'.format(accuracy_score(test.actual, test.rf_predicted)))\n",
    "print('---')\n",
    "print(classification_report(test.actual, test.rf_predicted))\n"
   ]
  },
  {
   "cell_type": "markdown",
   "id": "43cb68e0",
   "metadata": {},
   "source": [
    "# Conclusion \n",
    "\n",
    "## Key Items\n",
    "\n",
    "- After testing multiple models, our best performer turned out to be random forest at 62%\n",
    "\n",
    "- Through exploration we found that each programming language does have its own unique distribution of words\n",
    "\n",
    "## Recomendations\n",
    "\n",
    "- For the time being this model should be implemented until a better model can be implemented at a later date\n",
    "\n",
    "## What's Next?\n",
    "\n",
    "- With a many model approach based on each language as a target variable we may be able to create a model with much more accuracy at pinpointing select programming languages based on README text.\n",
    "\n",
    "- through the use of many models we may better be able to make models detect more obscure languages along with the more commonly used ones."
   ]
  }
 ],
 "metadata": {
  "kernelspec": {
   "display_name": "Python 3 (ipykernel)",
   "language": "python",
   "name": "python3"
  },
  "language_info": {
   "codemirror_mode": {
    "name": "ipython",
    "version": 3
   },
   "file_extension": ".py",
   "mimetype": "text/x-python",
   "name": "python",
   "nbconvert_exporter": "python",
   "pygments_lexer": "ipython3",
   "version": "3.9.12"
  }
 },
 "nbformat": 4,
 "nbformat_minor": 5
}
