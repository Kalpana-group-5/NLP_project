{
 "cells": [
  {
   "cell_type": "markdown",
   "id": "0217aaee",
   "metadata": {},
   "source": [
    "# Spotify Natural Language Processing Project"
   ]
  },
  {
   "cell_type": "markdown",
   "id": "9296e5f1",
   "metadata": {},
   "source": [
    "\n",
    "\n",
    "\n",
    "### By: Daniel Ford, Glady Barrios, Kevin Smith"
   ]
  },
  {
   "cell_type": "markdown",
   "id": "858d09f2",
   "metadata": {},
   "source": [
    "----"
   ]
  },
  {
   "cell_type": "markdown",
   "id": "1b5a4dd0",
   "metadata": {},
   "source": [
    "# Project Goal"
   ]
  },
  {
   "cell_type": "markdown",
   "id": "e80e11d5",
   "metadata": {},
   "source": [
    "- The goal of this project is to use natural language processing and classification models to identify terms for predicting a readme's primary language on Github."
   ]
  },
  {
   "cell_type": "markdown",
   "id": "02360cd4",
   "metadata": {},
   "source": [
    "---"
   ]
  },
  {
   "cell_type": "markdown",
   "id": "1c0332e8",
   "metadata": {},
   "source": [
    "# Inital Questions "
   ]
  },
  {
   "cell_type": "markdown",
   "id": "a4f168f4",
   "metadata": {},
   "source": [
    " - What are the top 5 programming languages when searching for 'Spotify' repos on github?\n",
    " - What are the most common words we would see when searching for spotify README's\n",
    " - From these top 5 programing languages what are the most common words from these languages \n",
    " - What are some common bigrams in the languages when using these bigrams\n"
   ]
  },
  {
   "cell_type": "markdown",
   "id": "786b500b",
   "metadata": {},
   "source": [
    "### Mini-data dictionary"
   ]
  },
  {
   "cell_type": "markdown",
   "id": "28ed1477",
   "metadata": {},
   "source": [
    "---\n",
    "| Attribute | Definition | Data Type |\n",
    "| ----- | ----- | ----- |\n",
    "|Repo |The username of the REPO|object |\n",
    "|readme_contents |What is inside the readme | object|\n",
    "|language|the programming language |object |\n",
    "|lemmatized|prepared data |object |\n"
   ]
  },
  {
   "cell_type": "markdown",
   "id": "5ee66f4c",
   "metadata": {},
   "source": [
    "### Important Libraries"
   ]
  },
  {
   "cell_type": "code",
   "execution_count": 1,
   "id": "a18380d9",
   "metadata": {},
   "outputs": [],
   "source": [
    "import pandas as pd\n",
    "import numpy as np\n",
    "import unicodedata\n",
    "import re, os\n",
    "import json\n",
    "%matplotlib inline\n",
    "import matplotlib.pyplot as plt\n",
    "import seaborn as sns\n",
    "from wordcloud import WordCloud\n",
    "\n",
    "import nltk\n",
    "from nltk.tokenize.toktok import ToktokTokenizer\n",
    "from nltk.corpus import stopwords\n",
    "from sklearn.feature_extraction.text import CountVectorizer\n",
    "from sklearn.model_selection import train_test_split\n",
    "from scipy.stats import zscore\n",
    "\n",
    "\n",
    "import time\n",
    "import random\n",
    "from requests import get\n",
    "from bs4 import BeautifulSoup\n",
    "#the aquire takes a while\n",
    "import acquire\n",
    "\n",
    "import prepare\n",
    "\n",
    "import warnings\n",
    "warnings.filterwarnings(\"ignore\")"
   ]
  },
  {
   "cell_type": "markdown",
   "id": "ae593fe6",
   "metadata": {},
   "source": [
    "# Acquire"
   ]
  },
  {
   "cell_type": "code",
   "execution_count": 2,
   "id": "b4beb3e3",
   "metadata": {},
   "outputs": [],
   "source": [
    "df = acquire.github_df()"
   ]
  },
  {
   "cell_type": "code",
   "execution_count": 3,
   "id": "78f5ba0f",
   "metadata": {},
   "outputs": [
    {
     "data": {
      "text/html": [
       "<div>\n",
       "<style scoped>\n",
       "    .dataframe tbody tr th:only-of-type {\n",
       "        vertical-align: middle;\n",
       "    }\n",
       "\n",
       "    .dataframe tbody tr th {\n",
       "        vertical-align: top;\n",
       "    }\n",
       "\n",
       "    .dataframe thead th {\n",
       "        text-align: right;\n",
       "    }\n",
       "</style>\n",
       "<table border=\"1\" class=\"dataframe\">\n",
       "  <thead>\n",
       "    <tr style=\"text-align: right;\">\n",
       "      <th></th>\n",
       "      <th>repo</th>\n",
       "      <th>language</th>\n",
       "      <th>readme_contents</th>\n",
       "    </tr>\n",
       "  </thead>\n",
       "  <tbody>\n",
       "    <tr>\n",
       "      <th>0</th>\n",
       "      <td>zmb3/spotify</td>\n",
       "      <td>Go</td>\n",
       "      <td>\\nSpotify\\n=======\\n\\n[![GoDoc](https://godoc....</td>\n",
       "    </tr>\n",
       "    <tr>\n",
       "      <th>1</th>\n",
       "      <td>spotDL/spotify-downloader</td>\n",
       "      <td>Python</td>\n",
       "      <td>&lt;!--- mdformat-toc start --slug=github ---&gt;\\n\\...</td>\n",
       "    </tr>\n",
       "    <tr>\n",
       "      <th>2</th>\n",
       "      <td>Spotifyd/spotifyd</td>\n",
       "      <td>Rust</td>\n",
       "      <td># Spotifyd &lt;!-- omit in toc --&gt;\\n&lt;!-- ALL-CONT...</td>\n",
       "    </tr>\n",
       "    <tr>\n",
       "      <th>3</th>\n",
       "      <td>Rigellute/spotify-tui</td>\n",
       "      <td>Rust</td>\n",
       "      <td># Spotify TUI\\n\\n![Continuous Integration](htt...</td>\n",
       "    </tr>\n",
       "    <tr>\n",
       "      <th>4</th>\n",
       "      <td>JohnnyCrazy/SpotifyAPI-NET</td>\n",
       "      <td>C#</td>\n",
       "      <td>\\n&lt;h1 align=\"center\"&gt;\\n  &lt;p align=\"center\"&gt;Spo...</td>\n",
       "    </tr>\n",
       "  </tbody>\n",
       "</table>\n",
       "</div>"
      ],
      "text/plain": [
       "                         repo language  \\\n",
       "0                zmb3/spotify       Go   \n",
       "1   spotDL/spotify-downloader   Python   \n",
       "2           Spotifyd/spotifyd     Rust   \n",
       "3       Rigellute/spotify-tui     Rust   \n",
       "4  JohnnyCrazy/SpotifyAPI-NET       C#   \n",
       "\n",
       "                                     readme_contents  \n",
       "0  \\nSpotify\\n=======\\n\\n[![GoDoc](https://godoc....  \n",
       "1  <!--- mdformat-toc start --slug=github --->\\n\\...  \n",
       "2  # Spotifyd <!-- omit in toc -->\\n<!-- ALL-CONT...  \n",
       "3  # Spotify TUI\\n\\n![Continuous Integration](htt...  \n",
       "4  \\n<h1 align=\"center\">\\n  <p align=\"center\">Spo...  "
      ]
     },
     "execution_count": 3,
     "metadata": {},
     "output_type": "execute_result"
    }
   ],
   "source": [
    "df.head()"
   ]
  },
  {
   "cell_type": "markdown",
   "id": "9116d105",
   "metadata": {},
   "source": [
    "# Prepare "
   ]
  },
  {
   "cell_type": "code",
   "execution_count": 5,
   "id": "9a5d63db",
   "metadata": {},
   "outputs": [],
   "source": [
    "df = df.dropna()"
   ]
  },
  {
   "cell_type": "code",
   "execution_count": 6,
   "id": "fd69681c",
   "metadata": {
    "scrolled": true
   },
   "outputs": [
    {
     "data": {
      "text/html": [
       "<div>\n",
       "<style scoped>\n",
       "    .dataframe tbody tr th:only-of-type {\n",
       "        vertical-align: middle;\n",
       "    }\n",
       "\n",
       "    .dataframe tbody tr th {\n",
       "        vertical-align: top;\n",
       "    }\n",
       "\n",
       "    .dataframe thead th {\n",
       "        text-align: right;\n",
       "    }\n",
       "</style>\n",
       "<table border=\"1\" class=\"dataframe\">\n",
       "  <thead>\n",
       "    <tr style=\"text-align: right;\">\n",
       "      <th></th>\n",
       "      <th>repo</th>\n",
       "      <th>language</th>\n",
       "      <th>readme_contents</th>\n",
       "      <th>clean</th>\n",
       "      <th>stemmed</th>\n",
       "      <th>lemmatized</th>\n",
       "      <th>original_length</th>\n",
       "      <th>stem_length</th>\n",
       "      <th>lem_length</th>\n",
       "      <th>original_word_count</th>\n",
       "      <th>stemmed_word_count</th>\n",
       "      <th>lemmatized_word_count</th>\n",
       "    </tr>\n",
       "  </thead>\n",
       "  <tbody>\n",
       "    <tr>\n",
       "      <th>0</th>\n",
       "      <td>zmb3/spotify</td>\n",
       "      <td>other</td>\n",
       "      <td>\\nSpotify\\n=======\\n\\n[![GoDoc](https://godoc....</td>\n",
       "      <td>spotify godochttpsgodocorggithubcomzmb3spotify...</td>\n",
       "      <td>spotifi godochttpsgodocorggithubcomzmb3spotify...</td>\n",
       "      <td>spotify godochttpsgodocorggithubcomzmb3spotify...</td>\n",
       "      <td>3918</td>\n",
       "      <td>2352</td>\n",
       "      <td>2640</td>\n",
       "      <td>503</td>\n",
       "      <td>276</td>\n",
       "      <td>276</td>\n",
       "    </tr>\n",
       "    <tr>\n",
       "      <th>1</th>\n",
       "      <td>spotDL/spotify-downloader</td>\n",
       "      <td>Python</td>\n",
       "      <td>&lt;!--- mdformat-toc start --slug=github ---&gt;\\n\\...</td>\n",
       "      <td>mdformattoc start sluggithub editing readme en...</td>\n",
       "      <td>mdformattoc start sluggithub edit readm ensur ...</td>\n",
       "      <td>mdformattoc start sluggithub editing readme en...</td>\n",
       "      <td>4300</td>\n",
       "      <td>2834</td>\n",
       "      <td>3021</td>\n",
       "      <td>471</td>\n",
       "      <td>277</td>\n",
       "      <td>277</td>\n",
       "    </tr>\n",
       "    <tr>\n",
       "      <th>2</th>\n",
       "      <td>Spotifyd/spotifyd</td>\n",
       "      <td>other</td>\n",
       "      <td># Spotifyd &lt;!-- omit in toc --&gt;\\n&lt;!-- ALL-CONT...</td>\n",
       "      <td>spotifyd omit toc allcontributorsbadgestart re...</td>\n",
       "      <td>spotifyd omit toc allcontributorsbadgestart re...</td>\n",
       "      <td>spotifyd omit toc allcontributorsbadgestart re...</td>\n",
       "      <td>2177</td>\n",
       "      <td>1482</td>\n",
       "      <td>1576</td>\n",
       "      <td>231</td>\n",
       "      <td>136</td>\n",
       "      <td>136</td>\n",
       "    </tr>\n",
       "    <tr>\n",
       "      <th>3</th>\n",
       "      <td>Rigellute/spotify-tui</td>\n",
       "      <td>other</td>\n",
       "      <td># Spotify TUI\\n\\n![Continuous Integration](htt...</td>\n",
       "      <td>spotify tui continuous integrationhttpsgithubc...</td>\n",
       "      <td>spotifi tui continu integrationhttpsgithubcomr...</td>\n",
       "      <td>spotify tui continuous integrationhttpsgithubc...</td>\n",
       "      <td>59878</td>\n",
       "      <td>32960</td>\n",
       "      <td>34049</td>\n",
       "      <td>3857</td>\n",
       "      <td>2495</td>\n",
       "      <td>2495</td>\n",
       "    </tr>\n",
       "    <tr>\n",
       "      <th>4</th>\n",
       "      <td>JohnnyCrazy/SpotifyAPI-NET</td>\n",
       "      <td>C#</td>\n",
       "      <td>\\n&lt;h1 align=\"center\"&gt;\\n  &lt;p align=\"center\"&gt;Spo...</td>\n",
       "      <td>h1 aligncenter aligncenterspotifyapinetp hrefh...</td>\n",
       "      <td>h1 aligncent aligncenterspotifyapinetp hrefhtt...</td>\n",
       "      <td>h1 aligncenter aligncenterspotifyapinetp hrefh...</td>\n",
       "      <td>2782</td>\n",
       "      <td>1881</td>\n",
       "      <td>2009</td>\n",
       "      <td>272</td>\n",
       "      <td>169</td>\n",
       "      <td>169</td>\n",
       "    </tr>\n",
       "    <tr>\n",
       "      <th>...</th>\n",
       "      <td>...</td>\n",
       "      <td>...</td>\n",
       "      <td>...</td>\n",
       "      <td>...</td>\n",
       "      <td>...</td>\n",
       "      <td>...</td>\n",
       "      <td>...</td>\n",
       "      <td>...</td>\n",
       "      <td>...</td>\n",
       "      <td>...</td>\n",
       "      <td>...</td>\n",
       "      <td>...</td>\n",
       "    </tr>\n",
       "    <tr>\n",
       "      <th>994</th>\n",
       "      <td>veeraya/8tracks-to-Spotify</td>\n",
       "      <td>JavaScript</td>\n",
       "      <td>This is a userscript, written in Javascript, t...</td>\n",
       "      <td>userscript written javascript converts 8tracks...</td>\n",
       "      <td>userscript written javascript convert 8track p...</td>\n",
       "      <td>userscript written javascript convert 8tracks ...</td>\n",
       "      <td>797</td>\n",
       "      <td>536</td>\n",
       "      <td>576</td>\n",
       "      <td>113</td>\n",
       "      <td>68</td>\n",
       "      <td>68</td>\n",
       "    </tr>\n",
       "    <tr>\n",
       "      <th>995</th>\n",
       "      <td>Luki120/PerfectSpotify</td>\n",
       "      <td>other</td>\n",
       "      <td># PerfectSpotify\\n\\n![PS](https://twickd.com/i...</td>\n",
       "      <td>perfectspotify pshttpstwickdcomimagescf5946037...</td>\n",
       "      <td>perfectspotifi pshttpstwickdcomimagescf5946037...</td>\n",
       "      <td>perfectspotify pshttpstwickdcomimagescf5946037...</td>\n",
       "      <td>1903</td>\n",
       "      <td>1384</td>\n",
       "      <td>1480</td>\n",
       "      <td>307</td>\n",
       "      <td>199</td>\n",
       "      <td>199</td>\n",
       "    </tr>\n",
       "    <tr>\n",
       "      <th>996</th>\n",
       "      <td>NicolasConstant/Spotify-Sleep-Mode-Stopper</td>\n",
       "      <td>C#</td>\n",
       "      <td># Spotify Sleep Mode Stopper\\n\\n## Synopsis \\n...</td>\n",
       "      <td>spotify sleep mode stopper synopsis spotify de...</td>\n",
       "      <td>spotifi sleep mode stopper synopsi spotifi des...</td>\n",
       "      <td>spotify sleep mode stopper synopsis spotify de...</td>\n",
       "      <td>824</td>\n",
       "      <td>469</td>\n",
       "      <td>540</td>\n",
       "      <td>123</td>\n",
       "      <td>66</td>\n",
       "      <td>66</td>\n",
       "    </tr>\n",
       "    <tr>\n",
       "      <th>997</th>\n",
       "      <td>mattiasahlsen/spotify-queue</td>\n",
       "      <td>JavaScript</td>\n",
       "      <td># spotify-app\\n\\n## deployed on\\nhttps://colla...</td>\n",
       "      <td>spotifyapp deployed httpscollabqueuecom projec...</td>\n",
       "      <td>spotifyapp deploy httpscollabqueuecom project ...</td>\n",
       "      <td>spotifyapp deployed httpscollabqueuecom projec...</td>\n",
       "      <td>355</td>\n",
       "      <td>216</td>\n",
       "      <td>247</td>\n",
       "      <td>48</td>\n",
       "      <td>27</td>\n",
       "      <td>27</td>\n",
       "    </tr>\n",
       "    <tr>\n",
       "      <th>998</th>\n",
       "      <td>hannesdatta/spotify-playlist-categories</td>\n",
       "      <td>Python</td>\n",
       "      <td># Categorization of Playlists (e.g., mood vers...</td>\n",
       "      <td>categorization playlists eg mood versus genre ...</td>\n",
       "      <td>categor playlist eg mood versu genr playlist g...</td>\n",
       "      <td>categorization playlist eg mood versus genre p...</td>\n",
       "      <td>7366</td>\n",
       "      <td>4541</td>\n",
       "      <td>5049</td>\n",
       "      <td>1115</td>\n",
       "      <td>660</td>\n",
       "      <td>660</td>\n",
       "    </tr>\n",
       "  </tbody>\n",
       "</table>\n",
       "<p>930 rows × 12 columns</p>\n",
       "</div>"
      ],
      "text/plain": [
       "                                           repo    language  \\\n",
       "0                                  zmb3/spotify       other   \n",
       "1                     spotDL/spotify-downloader      Python   \n",
       "2                             Spotifyd/spotifyd       other   \n",
       "3                         Rigellute/spotify-tui       other   \n",
       "4                    JohnnyCrazy/SpotifyAPI-NET          C#   \n",
       "..                                          ...         ...   \n",
       "994                  veeraya/8tracks-to-Spotify  JavaScript   \n",
       "995                      Luki120/PerfectSpotify       other   \n",
       "996  NicolasConstant/Spotify-Sleep-Mode-Stopper          C#   \n",
       "997                 mattiasahlsen/spotify-queue  JavaScript   \n",
       "998     hannesdatta/spotify-playlist-categories      Python   \n",
       "\n",
       "                                       readme_contents  \\\n",
       "0    \\nSpotify\\n=======\\n\\n[![GoDoc](https://godoc....   \n",
       "1    <!--- mdformat-toc start --slug=github --->\\n\\...   \n",
       "2    # Spotifyd <!-- omit in toc -->\\n<!-- ALL-CONT...   \n",
       "3    # Spotify TUI\\n\\n![Continuous Integration](htt...   \n",
       "4    \\n<h1 align=\"center\">\\n  <p align=\"center\">Spo...   \n",
       "..                                                 ...   \n",
       "994  This is a userscript, written in Javascript, t...   \n",
       "995  # PerfectSpotify\\n\\n![PS](https://twickd.com/i...   \n",
       "996  # Spotify Sleep Mode Stopper\\n\\n## Synopsis \\n...   \n",
       "997  # spotify-app\\n\\n## deployed on\\nhttps://colla...   \n",
       "998  # Categorization of Playlists (e.g., mood vers...   \n",
       "\n",
       "                                                 clean  \\\n",
       "0    spotify godochttpsgodocorggithubcomzmb3spotify...   \n",
       "1    mdformattoc start sluggithub editing readme en...   \n",
       "2    spotifyd omit toc allcontributorsbadgestart re...   \n",
       "3    spotify tui continuous integrationhttpsgithubc...   \n",
       "4    h1 aligncenter aligncenterspotifyapinetp hrefh...   \n",
       "..                                                 ...   \n",
       "994  userscript written javascript converts 8tracks...   \n",
       "995  perfectspotify pshttpstwickdcomimagescf5946037...   \n",
       "996  spotify sleep mode stopper synopsis spotify de...   \n",
       "997  spotifyapp deployed httpscollabqueuecom projec...   \n",
       "998  categorization playlists eg mood versus genre ...   \n",
       "\n",
       "                                               stemmed  \\\n",
       "0    spotifi godochttpsgodocorggithubcomzmb3spotify...   \n",
       "1    mdformattoc start sluggithub edit readm ensur ...   \n",
       "2    spotifyd omit toc allcontributorsbadgestart re...   \n",
       "3    spotifi tui continu integrationhttpsgithubcomr...   \n",
       "4    h1 aligncent aligncenterspotifyapinetp hrefhtt...   \n",
       "..                                                 ...   \n",
       "994  userscript written javascript convert 8track p...   \n",
       "995  perfectspotifi pshttpstwickdcomimagescf5946037...   \n",
       "996  spotifi sleep mode stopper synopsi spotifi des...   \n",
       "997  spotifyapp deploy httpscollabqueuecom project ...   \n",
       "998  categor playlist eg mood versu genr playlist g...   \n",
       "\n",
       "                                            lemmatized  original_length  \\\n",
       "0    spotify godochttpsgodocorggithubcomzmb3spotify...             3918   \n",
       "1    mdformattoc start sluggithub editing readme en...             4300   \n",
       "2    spotifyd omit toc allcontributorsbadgestart re...             2177   \n",
       "3    spotify tui continuous integrationhttpsgithubc...            59878   \n",
       "4    h1 aligncenter aligncenterspotifyapinetp hrefh...             2782   \n",
       "..                                                 ...              ...   \n",
       "994  userscript written javascript convert 8tracks ...              797   \n",
       "995  perfectspotify pshttpstwickdcomimagescf5946037...             1903   \n",
       "996  spotify sleep mode stopper synopsis spotify de...              824   \n",
       "997  spotifyapp deployed httpscollabqueuecom projec...              355   \n",
       "998  categorization playlist eg mood versus genre p...             7366   \n",
       "\n",
       "     stem_length  lem_length  original_word_count  stemmed_word_count  \\\n",
       "0           2352        2640                  503                 276   \n",
       "1           2834        3021                  471                 277   \n",
       "2           1482        1576                  231                 136   \n",
       "3          32960       34049                 3857                2495   \n",
       "4           1881        2009                  272                 169   \n",
       "..           ...         ...                  ...                 ...   \n",
       "994          536         576                  113                  68   \n",
       "995         1384        1480                  307                 199   \n",
       "996          469         540                  123                  66   \n",
       "997          216         247                   48                  27   \n",
       "998         4541        5049                 1115                 660   \n",
       "\n",
       "     lemmatized_word_count  \n",
       "0                      276  \n",
       "1                      277  \n",
       "2                      136  \n",
       "3                     2495  \n",
       "4                      169  \n",
       "..                     ...  \n",
       "994                     68  \n",
       "995                    199  \n",
       "996                     66  \n",
       "997                     27  \n",
       "998                    660  \n",
       "\n",
       "[930 rows x 12 columns]"
      ]
     },
     "execution_count": 6,
     "metadata": {},
     "output_type": "execute_result"
    }
   ],
   "source": [
    "prepare.prepare_df(df,'readme_contents', extra_words = ['also', '&#9', 'e', 'f', 'ou', 'et', 'n', '1', \"'\", ';', '3', 'e', 'p'])"
   ]
  },
  {
   "cell_type": "code",
   "execution_count": 7,
   "id": "023ebe71",
   "metadata": {},
   "outputs": [
    {
     "data": {
      "text/plain": [
       "JavaScript           234\n",
       "Python               187\n",
       "TypeScript            73\n",
       "Shell                 35\n",
       "Java                  34\n",
       "Objective-C           30\n",
       "Jupyter Notebook      26\n",
       "C#                    26\n",
       "CSS                   26\n",
       "HTML                  25\n",
       "PHP                   23\n",
       "Ruby                  22\n",
       "Swift                 22\n",
       "Go                    19\n",
       "Rust                  17\n",
       "C                     15\n",
       "C++                   15\n",
       "Kotlin                14\n",
       "Dart                  13\n",
       "Vue                    9\n",
       "R                      6\n",
       "CoffeeScript           6\n",
       "Emacs Lisp             5\n",
       "Logos                  4\n",
       "PowerShell             4\n",
       "Elixir                 3\n",
       "Perl                   3\n",
       "AppleScript            3\n",
       "Batchfile              3\n",
       "Jinja                  2\n",
       "HCL                    2\n",
       "Lua                    2\n",
       "VimL                   2\n",
       "OCaml                  2\n",
       "Scala                  2\n",
       "Dockerfile             2\n",
       "AutoHotkey             2\n",
       "QML                    2\n",
       "Haskell                1\n",
       "Makefile               1\n",
       "Elm                    1\n",
       "Crystal                1\n",
       "Clojure                1\n",
       "SCSS                   1\n",
       "Visual Basic .NET      1\n",
       "RAML                   1\n",
       "Pascal                 1\n",
       "Visual Basic           1\n",
       "Name: language, dtype: int64"
      ]
     },
     "execution_count": 7,
     "metadata": {},
     "output_type": "execute_result"
    }
   ],
   "source": [
    "df.language.value_counts()"
   ]
  },
  {
   "cell_type": "markdown",
   "id": "6f6cc678",
   "metadata": {},
   "source": [
    "### Split the data"
   ]
  },
  {
   "cell_type": "code",
   "execution_count": null,
   "id": "c293847a",
   "metadata": {},
   "outputs": [],
   "source": []
  },
  {
   "cell_type": "markdown",
   "id": "e8fa4edf",
   "metadata": {},
   "source": [
    "# Exploration "
   ]
  },
  {
   "cell_type": "code",
   "execution_count": null,
   "id": "c0fa2981",
   "metadata": {},
   "outputs": [],
   "source": []
  },
  {
   "cell_type": "code",
   "execution_count": null,
   "id": "af4cf2ac",
   "metadata": {},
   "outputs": [],
   "source": []
  },
  {
   "cell_type": "code",
   "execution_count": null,
   "id": "82f5dcd0",
   "metadata": {},
   "outputs": [],
   "source": []
  },
  {
   "cell_type": "code",
   "execution_count": null,
   "id": "ca88fd04",
   "metadata": {},
   "outputs": [],
   "source": []
  },
  {
   "cell_type": "markdown",
   "id": "c76d1400",
   "metadata": {},
   "source": [
    "# Modeling"
   ]
  },
  {
   "cell_type": "code",
   "execution_count": null,
   "id": "dcdf07ee",
   "metadata": {},
   "outputs": [],
   "source": []
  },
  {
   "cell_type": "code",
   "execution_count": null,
   "id": "fe474ea0",
   "metadata": {},
   "outputs": [],
   "source": []
  },
  {
   "cell_type": "code",
   "execution_count": null,
   "id": "5529a3dc",
   "metadata": {},
   "outputs": [],
   "source": []
  },
  {
   "cell_type": "code",
   "execution_count": null,
   "id": "45e32f9f",
   "metadata": {},
   "outputs": [],
   "source": []
  },
  {
   "cell_type": "code",
   "execution_count": null,
   "id": "34c5ed92",
   "metadata": {},
   "outputs": [],
   "source": []
  },
  {
   "cell_type": "code",
   "execution_count": null,
   "id": "283a1738",
   "metadata": {},
   "outputs": [],
   "source": []
  },
  {
   "cell_type": "code",
   "execution_count": null,
   "id": "d1680e94",
   "metadata": {},
   "outputs": [],
   "source": []
  },
  {
   "cell_type": "code",
   "execution_count": null,
   "id": "eba9ae05",
   "metadata": {},
   "outputs": [],
   "source": []
  },
  {
   "cell_type": "code",
   "execution_count": null,
   "id": "13c37d27",
   "metadata": {},
   "outputs": [],
   "source": []
  },
  {
   "cell_type": "code",
   "execution_count": null,
   "id": "32a708d0",
   "metadata": {},
   "outputs": [],
   "source": []
  },
  {
   "cell_type": "code",
   "execution_count": null,
   "id": "b88affd9",
   "metadata": {},
   "outputs": [],
   "source": []
  },
  {
   "cell_type": "code",
   "execution_count": null,
   "id": "a9c8d452",
   "metadata": {},
   "outputs": [],
   "source": []
  },
  {
   "cell_type": "markdown",
   "id": "43cb68e0",
   "metadata": {},
   "source": [
    "# Conclusion "
   ]
  },
  {
   "cell_type": "code",
   "execution_count": null,
   "id": "a05210f1",
   "metadata": {},
   "outputs": [],
   "source": []
  },
  {
   "cell_type": "code",
   "execution_count": null,
   "id": "cd2af7fa",
   "metadata": {},
   "outputs": [],
   "source": []
  },
  {
   "cell_type": "code",
   "execution_count": null,
   "id": "9f4a560e",
   "metadata": {},
   "outputs": [],
   "source": []
  },
  {
   "cell_type": "code",
   "execution_count": null,
   "id": "43135897",
   "metadata": {},
   "outputs": [],
   "source": []
  }
 ],
 "metadata": {
  "kernelspec": {
   "display_name": "Python 3 (ipykernel)",
   "language": "python",
   "name": "python3"
  },
  "language_info": {
   "codemirror_mode": {
    "name": "ipython",
    "version": 3
   },
   "file_extension": ".py",
   "mimetype": "text/x-python",
   "name": "python",
   "nbconvert_exporter": "python",
   "pygments_lexer": "ipython3",
   "version": "3.9.12"
  }
 },
 "nbformat": 4,
 "nbformat_minor": 5
}
