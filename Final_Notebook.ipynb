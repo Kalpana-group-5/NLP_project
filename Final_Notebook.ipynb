{
 "cells": [
  {
   "cell_type": "markdown",
   "id": "d3d844cf",
   "metadata": {},
   "source": [
    "# Spotify Natural Language Processing Project"
   ]
  },
  {
   "cell_type": "markdown",
   "id": "a5313ffd",
   "metadata": {},
   "source": [
    "\n",
    "\n",
    "\n",
    "### By: Daniel Ford, Glady Barrios, Kevin Smith"
   ]
  },
  {
   "cell_type": "markdown",
   "id": "84ff9b03",
   "metadata": {},
   "source": [
    "----"
   ]
  },
  {
   "cell_type": "markdown",
   "id": "9686ff3c",
   "metadata": {},
   "source": [
    "# Project Goal"
   ]
  },
  {
   "cell_type": "markdown",
   "id": "f29be46c",
   "metadata": {},
   "source": [
    "- The goal of this project is to use natural language processing and classification models to identify terms for predicting a readme's primary language on Github."
   ]
  },
  {
   "cell_type": "markdown",
   "id": "91e85014",
   "metadata": {},
   "source": [
    "---"
   ]
  },
  {
   "cell_type": "markdown",
   "id": "ab35bb02",
   "metadata": {},
   "source": [
    "# Inital Questions "
   ]
  },
  {
   "cell_type": "markdown",
   "id": "7037d0cf",
   "metadata": {},
   "source": [
    " - What are the top 5 programming languages when searching for 'Spotify' repos on github?\n",
    " - What are the most common words we would see when searching for spotify README's\n",
    " - From these top 5 programing languages what are the most common words from these languages \n",
    " - What are some common bigrams in the languages when using these bigrams\n"
   ]
  },
  {
   "cell_type": "markdown",
   "id": "a66ad20e",
   "metadata": {},
   "source": [
    "### Mini-data dictionary"
   ]
  },
  {
   "cell_type": "markdown",
   "id": "f9c4996e",
   "metadata": {},
   "source": [
    "---\n",
    "| Attribute | Definition | Data Type |\n",
    "| ----- | ----- | ----- |\n",
    "| | | |\n",
    "| | | |\n",
    "| | | |\n",
    "| | | |\n",
    "| | | |\n",
    "| | | |"
   ]
  },
  {
   "cell_type": "markdown",
   "id": "60b4508b",
   "metadata": {},
   "source": [
    "### Important Libraries"
   ]
  },
  {
   "cell_type": "code",
   "execution_count": null,
   "id": "bdda42ea",
   "metadata": {},
   "outputs": [],
   "source": [
    "import pandas as pd\n",
    "import numpy as np\n",
    "import unicodedata\n",
    "import re, os\n",
    "import json\n",
    "%matplotlib inline\n",
    "import matplotlib.pyplot as plt\n",
    "import seaborn as sns\n",
    "from wordcloud import WordCloud\n",
    "\n",
    "import nltk\n",
    "from nltk.tokenize.toktok import ToktokTokenizer\n",
    "from nltk.corpus import stopwords\n",
    "from sklearn.feature_extraction.text import CountVectorizer\n",
    "from sklearn.model_selection import train_test_split\n",
    "from scipy.stats import zscore\n",
    "\n",
    "\n",
    "import time\n",
    "import random\n",
    "from requests import get\n",
    "from bs4 import BeautifulSoup\n",
    "#the aquire takes a while\n",
    "import acquire\n",
    "\n",
    "import prepare\n",
    "\n",
    "import warnings\n",
    "warnings.filterwarnings(\"ignore\")"
   ]
  },
  {
   "cell_type": "markdown",
   "id": "6c6e7406",
   "metadata": {},
   "source": [
    "# Acquire"
   ]
  },
  {
   "cell_type": "code",
   "execution_count": null,
   "id": "6f680823",
   "metadata": {},
   "outputs": [],
   "source": []
  },
  {
   "cell_type": "code",
   "execution_count": null,
   "id": "24f1fed8",
   "metadata": {},
   "outputs": [],
   "source": []
  },
  {
   "cell_type": "markdown",
   "id": "0736a13e",
   "metadata": {},
   "source": [
    "# Prepare "
   ]
  },
  {
   "cell_type": "code",
   "execution_count": null,
   "id": "2e6c6fac",
   "metadata": {},
   "outputs": [],
   "source": []
  },
  {
   "cell_type": "code",
   "execution_count": null,
   "id": "b6a918de",
   "metadata": {},
   "outputs": [],
   "source": []
  },
  {
   "cell_type": "code",
   "execution_count": null,
   "id": "0a1fb5b5",
   "metadata": {},
   "outputs": [],
   "source": []
  },
  {
   "cell_type": "markdown",
   "id": "5953784e",
   "metadata": {},
   "source": [
    "# Exploration "
   ]
  },
  {
   "cell_type": "code",
   "execution_count": null,
   "id": "4477440e",
   "metadata": {},
   "outputs": [],
   "source": []
  },
  {
   "cell_type": "code",
   "execution_count": null,
   "id": "023857d3",
   "metadata": {},
   "outputs": [],
   "source": []
  },
  {
   "cell_type": "code",
   "execution_count": null,
   "id": "565b4359",
   "metadata": {},
   "outputs": [],
   "source": []
  },
  {
   "cell_type": "code",
   "execution_count": null,
   "id": "182da7bf",
   "metadata": {},
   "outputs": [],
   "source": []
  },
  {
   "cell_type": "markdown",
   "id": "102a0d3f",
   "metadata": {},
   "source": [
    "# Modeling"
   ]
  },
  {
   "cell_type": "code",
   "execution_count": null,
   "id": "c086b656",
   "metadata": {},
   "outputs": [],
   "source": []
  },
  {
   "cell_type": "code",
   "execution_count": null,
   "id": "18031f21",
   "metadata": {},
   "outputs": [],
   "source": []
  },
  {
   "cell_type": "code",
   "execution_count": null,
   "id": "68317feb",
   "metadata": {},
   "outputs": [],
   "source": []
  },
  {
   "cell_type": "code",
   "execution_count": null,
   "id": "3735be60",
   "metadata": {},
   "outputs": [],
   "source": []
  },
  {
   "cell_type": "code",
   "execution_count": null,
   "id": "71101882",
   "metadata": {},
   "outputs": [],
   "source": []
  },
  {
   "cell_type": "code",
   "execution_count": null,
   "id": "dd6ab6af",
   "metadata": {},
   "outputs": [],
   "source": []
  },
  {
   "cell_type": "code",
   "execution_count": null,
   "id": "d84cc90f",
   "metadata": {},
   "outputs": [],
   "source": []
  },
  {
   "cell_type": "code",
   "execution_count": null,
   "id": "cae71d92",
   "metadata": {},
   "outputs": [],
   "source": []
  },
  {
   "cell_type": "code",
   "execution_count": null,
   "id": "15aa3476",
   "metadata": {},
   "outputs": [],
   "source": []
  },
  {
   "cell_type": "code",
   "execution_count": null,
   "id": "9a9b83a4",
   "metadata": {},
   "outputs": [],
   "source": []
  },
  {
   "cell_type": "code",
   "execution_count": null,
   "id": "7bb974d6",
   "metadata": {},
   "outputs": [],
   "source": []
  },
  {
   "cell_type": "code",
   "execution_count": null,
   "id": "580b27f0",
   "metadata": {},
   "outputs": [],
   "source": []
  },
  {
   "cell_type": "markdown",
   "id": "43b10463",
   "metadata": {},
   "source": [
    "# Conclusion "
   ]
  },
  {
   "cell_type": "code",
   "execution_count": null,
   "id": "4bc1833b",
   "metadata": {},
   "outputs": [],
   "source": []
  },
  {
   "cell_type": "code",
   "execution_count": null,
   "id": "7f54c2b8",
   "metadata": {},
   "outputs": [],
   "source": []
  },
  {
   "cell_type": "code",
   "execution_count": null,
   "id": "5bf06110",
   "metadata": {},
   "outputs": [],
   "source": []
  },
  {
   "cell_type": "code",
   "execution_count": null,
   "id": "7e3cf60f",
   "metadata": {},
   "outputs": [],
   "source": []
  }
 ],
 "metadata": {
  "kernelspec": {
   "display_name": "Python 3 (ipykernel)",
   "language": "python",
   "name": "python3"
  },
  "language_info": {
   "codemirror_mode": {
    "name": "ipython",
    "version": 3
   },
   "file_extension": ".py",
   "mimetype": "text/x-python",
   "name": "python",
   "nbconvert_exporter": "python",
   "pygments_lexer": "ipython3",
   "version": "3.9.12"
  }
 },
 "nbformat": 4,
 "nbformat_minor": 5
}
