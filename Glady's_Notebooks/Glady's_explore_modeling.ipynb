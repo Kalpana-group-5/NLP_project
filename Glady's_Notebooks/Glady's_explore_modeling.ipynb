{
 "cells": [
  {
   "cell_type": "code",
   "execution_count": null,
   "id": "eda52135",
   "metadata": {},
   "outputs": [],
   "source": [
    "\n",
    "import pandas as pd\n",
    "import numpy as np\n",
    "import unicodedata\n",
    "import re, os\n",
    "import json\n",
    "\n",
    "\n",
    "import nltk\n",
    "from nltk.tokenize.toktok import ToktokTokenizer\n",
    "from nltk.corpus import stopwords\n",
    "from sklearn.feature_extraction.text import CountVectorizer\n",
    "from sklearn.model_selection import train_test_split\n",
    "from scipy.stats import zscore\n",
    "\n",
    "import pandas as pd\n",
    "import time\n",
    "import random\n",
    "from requests import get\n",
    "from bs4 import BeautifulSoup\n",
    "\n",
    "import acquire\n",
    "import GB_prepare"
   ]
  },
  {
   "cell_type": "code",
   "execution_count": null,
   "id": "04c7ad0e",
   "metadata": {},
   "outputs": [],
   "source": [
    "REPOS = acquire.scrape_github_data()"
   ]
  },
  {
   "cell_type": "code",
   "execution_count": null,
   "id": "865bbe75",
   "metadata": {},
   "outputs": [],
   "source": []
  },
  {
   "cell_type": "code",
   "execution_count": null,
   "id": "b6813a9e",
   "metadata": {},
   "outputs": [],
   "source": [
    "df_Repos = pd.DataFrame(REPOS)"
   ]
  },
  {
   "cell_type": "code",
   "execution_count": null,
   "id": "0982b331",
   "metadata": {},
   "outputs": [],
   "source": [
    "df_Repos.head()"
   ]
  },
  {
   "cell_type": "code",
   "execution_count": null,
   "id": "bc78d2ea",
   "metadata": {},
   "outputs": [],
   "source": []
  },
  {
   "cell_type": "code",
   "execution_count": null,
   "id": "0a0cecc8",
   "metadata": {},
   "outputs": [],
   "source": [
    "GB_prepare.prepare_df(df_Repos,'readme_contents', extra_words = ['also', '&#9', 'e', 'f', 'ou', 'et', 'n', '1', \"'\", ';', '3', 'e', 'p'])"
   ]
  },
  {
   "cell_type": "code",
   "execution_count": null,
   "id": "9aa9d54f",
   "metadata": {},
   "outputs": [],
   "source": [
    "df_Repos.head()"
   ]
  },
  {
   "cell_type": "code",
   "execution_count": null,
   "id": "3e7eb595",
   "metadata": {},
   "outputs": [],
   "source": []
  },
  {
   "cell_type": "code",
   "execution_count": null,
   "id": "240d1f04",
   "metadata": {},
   "outputs": [],
   "source": [
    "labels = pd.concat([df_Repos.language.value_counts(),\n",
    "                    df_Repos.language.value_counts(normalize=True)], axis=1)\n",
    "labels.columns = ['n', 'percent']\n",
    "labels.head()\n"
   ]
  },
  {
   "cell_type": "code",
   "execution_count": null,
   "id": "7e0a1eb6",
   "metadata": {},
   "outputs": [],
   "source": []
  },
  {
   "cell_type": "code",
   "execution_count": null,
   "id": "392c0faa",
   "metadata": {},
   "outputs": [],
   "source": [
    "Java_words = (' '.join(df_Repos[df_Repos.language == 'JavaScript'].lemmatized)).split()\n",
    "python_words = (' '.join(df_Repos[df_Repos.language == 'Python'].lemmatized)).split()\n",
    "type_words= (' '.join(df_Repos[df_Repos.language == 'TypeScript'].lemmatized)).split()\n",
    "Shell_words= (' '.join(df_Repos[df_Repos.language == 'Shell'].lemmatized)).split()\n",
    "all_words = (' '.join(df_Repos.lemmatized)).split()\n"
   ]
  },
  {
   "cell_type": "code",
   "execution_count": null,
   "id": "ca60479c",
   "metadata": {},
   "outputs": [],
   "source": [
    "Java_freq = pd.Series(Java_words).value_counts()\n",
    "python_freq = pd.Series(python_words).value_counts()\n",
    "all_freq = pd.Series(all_words).value_counts()\n",
    "\n",
    "\n",
    "Java_freq.head(20)"
   ]
  },
  {
   "cell_type": "code",
   "execution_count": null,
   "id": "927a023a",
   "metadata": {},
   "outputs": [],
   "source": [
    "type_freq = pd.Series(type_words).value_counts()"
   ]
  },
  {
   "cell_type": "code",
   "execution_count": null,
   "id": "868e2096",
   "metadata": {},
   "outputs": [],
   "source": [
    "word_counts = (pd.concat([Java_freq, python_freq, all_freq, type_freq], axis=1, sort=True)\n",
    "              .set_axis(['java','python', 'all', 'TypeScript'], axis=1, inplace=False)\n",
    "              .fillna(0)\n",
    "              .apply(lambda s: s.astype(int)))"
   ]
  },
  {
   "cell_type": "code",
   "execution_count": null,
   "id": "af01e3b1",
   "metadata": {},
   "outputs": [],
   "source": [
    "word_counts.head(20)"
   ]
  },
  {
   "cell_type": "code",
   "execution_count": null,
   "id": "dcf78496",
   "metadata": {},
   "outputs": [],
   "source": [
    "word_counts.sort_values(by='all', ascending=False).head(50)"
   ]
  },
  {
   "cell_type": "code",
   "execution_count": null,
   "id": "8ee81f5c",
   "metadata": {},
   "outputs": [],
   "source": []
  },
  {
   "cell_type": "code",
   "execution_count": null,
   "id": "69bfc367",
   "metadata": {},
   "outputs": [],
   "source": []
  }
 ],
 "metadata": {
  "kernelspec": {
   "display_name": "Python 3 (ipykernel)",
   "language": "python",
   "name": "python3"
  },
  "language_info": {
   "codemirror_mode": {
    "name": "ipython",
    "version": 3
   },
   "file_extension": ".py",
   "mimetype": "text/x-python",
   "name": "python",
   "nbconvert_exporter": "python",
   "pygments_lexer": "ipython3",
   "version": "3.9.12"
  }
 },
 "nbformat": 4,
 "nbformat_minor": 5
}
